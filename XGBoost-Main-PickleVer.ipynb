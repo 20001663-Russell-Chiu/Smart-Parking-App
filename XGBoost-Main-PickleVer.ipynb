{
 "cells": [
  {
   "cell_type": "code",
   "execution_count": 1,
   "metadata": {},
   "outputs": [
    {
     "name": "stderr",
     "output_type": "stream",
     "text": [
      "c:\\Users\\Russell\\Anaconda3\\envs\\CondaApp\\lib\\site-packages\\xgboost\\compat.py:36: FutureWarning: pandas.Int64Index is deprecated and will be removed from pandas in a future version. Use pandas.Index with the appropriate dtype instead.\n",
      "  from pandas import MultiIndex, Int64Index\n"
     ]
    },
    {
     "name": "stdout",
     "output_type": "stream",
     "text": [
      "1.5.0\n"
     ]
    }
   ],
   "source": [
    "# First XGBoost model\n",
    "from numpy import loadtxt\n",
    "from xgboost import XGBClassifier\n",
    "import xgboost\n",
    "from sklearn.model_selection import train_test_split\n",
    "from sklearn.metrics import accuracy_score,classification_report\n",
    "import numpy as np\n",
    "import pandas as pd\n",
    "import pickle as pk\n",
    "import seaborn as sns\n",
    "import matplotlib.pyplot as plt\n",
    "from sklearn.metrics import plot_confusion_matrix, ConfusionMatrixDisplay\n",
    "from sklearn.model_selection import train_test_split\n",
    "from sklearn.preprocessing import LabelEncoder\n",
    "from sklearn.metrics import precision_score\n",
    "from sklearn.metrics import accuracy_score\n",
    "from sklearn.metrics import recall_score\n",
    "from sklearn.metrics import f1_score\n",
    "from datetime import datetime, date\n",
    "import calendar\n",
    "from sklearn import ensemble\n",
    "from sklearn.model_selection import StratifiedKFold\n",
    "import sklearn.metrics as metrics\n",
    "import warnings\n",
    "warnings.filterwarnings('ignore')\n",
    "print(xgboost.__version__)"
   ]
  },
  {
   "cell_type": "code",
   "execution_count": 2,
   "metadata": {},
   "outputs": [
    {
     "name": "stdout",
     "output_type": "stream",
     "text": [
      "<class 'pandas.core.frame.DataFrame'>\n",
      "Int64Index: 11548 entries, 3914 to 2689\n",
      "Data columns (total 10 columns):\n",
      " #   Column            Non-Null Count  Dtype  \n",
      "---  ------            --------------  -----  \n",
      " 0   SESSIONID         11548 non-null  object \n",
      " 1   CARPARKNUMBER     11548 non-null  object \n",
      " 2   VEHICLETYPE       11548 non-null  object \n",
      " 3   SESSIONSTART      11548 non-null  object \n",
      " 4   SESSIONEND        11548 non-null  object \n",
      " 5   TOTAL_CHARGE      11548 non-null  float64\n",
      " 6   DURATION          11548 non-null  int64  \n",
      " 7   EFFECTIVE_CHARGE  11548 non-null  float64\n",
      " 8   LOT_NUMBER        11548 non-null  int64  \n",
      " 9   LABEL_TYPE        11548 non-null  int64  \n",
      "dtypes: float64(2), int64(3), object(5)\n",
      "memory usage: 992.4+ KB\n",
      "None\n"
     ]
    }
   ],
   "source": [
    "#Load Dataset\n",
    "from sklearn.model_selection import train_test_split\n",
    "from sklearn.preprocessing import StandardScaler\n",
    "# Loading the dataset \n",
    "currentdf  = pd.read_csv(r\"C:\\Users\\Russell\\Desktop\\SmartParkingApp\\PL80_Dataset_1.csv\")\n",
    "currentdf = currentdf.dropna()\n",
    "currentdf = currentdf.sample(frac=1)\n",
    "\n",
    "print(currentdf.info())"
   ]
  },
  {
   "cell_type": "code",
   "execution_count": 3,
   "metadata": {},
   "outputs": [
    {
     "data": {
      "text/html": [
       "<div>\n",
       "<style scoped>\n",
       "    .dataframe tbody tr th:only-of-type {\n",
       "        vertical-align: middle;\n",
       "    }\n",
       "\n",
       "    .dataframe tbody tr th {\n",
       "        vertical-align: top;\n",
       "    }\n",
       "\n",
       "    .dataframe thead th {\n",
       "        text-align: right;\n",
       "    }\n",
       "</style>\n",
       "<table border=\"1\" class=\"dataframe\">\n",
       "  <thead>\n",
       "    <tr style=\"text-align: right;\">\n",
       "      <th></th>\n",
       "      <th>VEHICLETYPE</th>\n",
       "      <th>SESSIONSTART</th>\n",
       "      <th>SESSIONEND</th>\n",
       "      <th>TOTAL_CHARGE</th>\n",
       "      <th>DURATION</th>\n",
       "      <th>EFFECTIVE_CHARGE</th>\n",
       "    </tr>\n",
       "  </thead>\n",
       "  <tbody>\n",
       "    <tr>\n",
       "      <th>3914</th>\n",
       "      <td>C</td>\n",
       "      <td>23/10/2021 6:00</td>\n",
       "      <td>23/10/2021 6:01</td>\n",
       "      <td>0.00</td>\n",
       "      <td>1</td>\n",
       "      <td>0.00</td>\n",
       "    </tr>\n",
       "    <tr>\n",
       "      <th>9671</th>\n",
       "      <td>C</td>\n",
       "      <td>10/10/2021 4:37</td>\n",
       "      <td>10/10/2021 17:06</td>\n",
       "      <td>14.86</td>\n",
       "      <td>749</td>\n",
       "      <td>0.00</td>\n",
       "    </tr>\n",
       "    <tr>\n",
       "      <th>6032</th>\n",
       "      <td>C</td>\n",
       "      <td>4/8/2021 19:57</td>\n",
       "      <td>4/8/2021 21:24</td>\n",
       "      <td>1.74</td>\n",
       "      <td>87</td>\n",
       "      <td>1.74</td>\n",
       "    </tr>\n",
       "    <tr>\n",
       "      <th>7741</th>\n",
       "      <td>C</td>\n",
       "      <td>6/9/2021 19:21</td>\n",
       "      <td>6/9/2021 22:00</td>\n",
       "      <td>3.18</td>\n",
       "      <td>159</td>\n",
       "      <td>3.18</td>\n",
       "    </tr>\n",
       "    <tr>\n",
       "      <th>8910</th>\n",
       "      <td>C</td>\n",
       "      <td>29/9/2021 19:30</td>\n",
       "      <td>29/9/2021 21:24</td>\n",
       "      <td>2.28</td>\n",
       "      <td>114</td>\n",
       "      <td>2.28</td>\n",
       "    </tr>\n",
       "  </tbody>\n",
       "</table>\n",
       "</div>"
      ],
      "text/plain": [
       "     VEHICLETYPE     SESSIONSTART        SESSIONEND  TOTAL_CHARGE  DURATION  \\\n",
       "3914           C  23/10/2021 6:00   23/10/2021 6:01          0.00         1   \n",
       "9671           C  10/10/2021 4:37  10/10/2021 17:06         14.86       749   \n",
       "6032           C   4/8/2021 19:57    4/8/2021 21:24          1.74        87   \n",
       "7741           C   6/9/2021 19:21    6/9/2021 22:00          3.18       159   \n",
       "8910           C  29/9/2021 19:30   29/9/2021 21:24          2.28       114   \n",
       "\n",
       "      EFFECTIVE_CHARGE  \n",
       "3914              0.00  \n",
       "9671              0.00  \n",
       "6032              1.74  \n",
       "7741              3.18  \n",
       "8910              2.28  "
      ]
     },
     "execution_count": 3,
     "metadata": {},
     "output_type": "execute_result"
    }
   ],
   "source": [
    "#y is the output and X is the input to train\n",
    "y = currentdf['LABEL_TYPE']\n",
    "X = currentdf.drop(['SESSIONID','CARPARKNUMBER','LABEL_TYPE', 'LOT_NUMBER'], axis = 1)\n",
    "X.head()"
   ]
  },
  {
   "cell_type": "code",
   "execution_count": 4,
   "metadata": {},
   "outputs": [
    {
     "name": "stdout",
     "output_type": "stream",
     "text": [
      "      VEHICLETYPE  SESSIONSTART  SESSIONEND  TOTAL_CHARGE  DURATION  \\\n",
      "3914            0    27249480.0  27249481.0          0.00         1   \n",
      "9671            0    27230677.0  27231426.0         14.86       749   \n",
      "6032            0    27135117.0  27135204.0          1.74        87   \n",
      "7741            0    27182601.0  27182760.0          3.18       159   \n",
      "8910            0    27215730.0  27215844.0          2.28       114   \n",
      "1060            0    27230258.0  27231613.0          0.00      1355   \n",
      "5177            0    27257717.0  27258195.0          0.00       478   \n",
      "8963            0    27217217.0  27217310.0          1.86        93   \n",
      "6880            0    27158423.0  27158887.0          6.34       464   \n",
      "8730            0    27210009.0  27210231.0          4.44       222   \n",
      "\n",
      "      EFFECTIVE_CHARGE  \n",
      "3914              0.00  \n",
      "9671              0.00  \n",
      "6032              1.74  \n",
      "7741              3.18  \n",
      "8910              2.28  \n",
      "1060              0.00  \n",
      "5177              0.00  \n",
      "8963              1.86  \n",
      "6880              6.34  \n",
      "8730              4.44  \n",
      "3914    1\n",
      "9671    0\n",
      "6032    0\n",
      "7741    0\n",
      "8910    0\n",
      "1060    1\n",
      "5177    1\n",
      "8963    0\n",
      "6880    0\n",
      "8730    0\n",
      "Name: LABEL_TYPE, dtype: int64\n"
     ]
    }
   ],
   "source": [
    "#Used LabelEncoder to get numeric values\n",
    "le = LabelEncoder()\n",
    "X['VEHICLETYPE'] = le.fit_transform(X['VEHICLETYPE'])\n",
    "\n",
    "X['SESSIONSTART'] = pd.to_datetime(X['SESSIONSTART'], format='%d/%m/%Y %H:%M', infer_datetime_format=True)\n",
    "X['SESSIONEND'] = pd.to_datetime(X['SESSIONEND'], format='%d/%m/%Y %H:%M', infer_datetime_format=True)\n",
    "\n",
    "X['SESSIONSTART'] = pd.to_datetime(X['SESSIONSTART']).map(pd.Timestamp.timestamp)\n",
    "X['SESSIONEND'] = pd.to_datetime(X['SESSIONEND']).map(pd.Timestamp.timestamp)\n",
    "\n",
    "X['SESSIONSTART'] = X['SESSIONSTART'] / 60\n",
    "X['SESSIONEND'] = X['SESSIONEND'] / 60\n",
    "\n",
    "print(X.head(10))\n",
    "print(y.head(10))\n",
    "\n",
    "#Standardized\n",
    "sc = StandardScaler()\n",
    "X = sc.fit_transform(X)\n",
    "\n",
    "#Return back to dataFrame\n",
    "X = pd.DataFrame(X)"
   ]
  },
  {
   "cell_type": "code",
   "execution_count": 5,
   "metadata": {},
   "outputs": [
    {
     "data": {
      "text/plain": [
       "0.9367965367965368"
      ]
     },
     "execution_count": 5,
     "metadata": {},
     "output_type": "execute_result"
    }
   ],
   "source": [
    "#Tuning with Hyper Parameters\n",
    "\n",
    "X_train, X_test, y_train, y_test = train_test_split(X, y, test_size = 0.20)\n",
    "\n",
    "xgb_classifier = XGBClassifier(base_score=0.5, booster='gbtree',\n",
    "                               colsample_bylevel=1,\n",
    "                               colsample_bynode=1,\n",
    "                               colsample_bytree=0.5,\n",
    "                               enable_categorical=False,\n",
    "                               eval_metric='mlogloss',\n",
    "                               gamma=0.1,  \n",
    "                               gpu_id=-1,\n",
    "                               importance_type=None,\n",
    "                               interaction_constraints='',\n",
    "                               learning_rate=0.2,\n",
    "                               max_delta_step=0,\n",
    "                               max_depth=15,\n",
    "                               min_child_weight=1,\n",
    "                               monotone_constraints='()',\n",
    "                               n_estimators=100,\n",
    "                               n_jobs=12, num_parallel_tree=1,\n",
    "                               predictor='auto',\n",
    "                               random_state=0,\n",
    "                               reg_alpha=0,\n",
    "                               reg_lambda=1,\n",
    "                               scale_pos_weight=1,\n",
    "                               subsample=1,\n",
    "                               tree_method='exact',\n",
    "                               validate_parameters=1,\n",
    "                               verbosity=None)\n",
    "\n",
    "xgb_classifier.fit(X_train, y_train)\n",
    "y_pred_test_tuned = xgb_classifier.predict(X_test)   \n",
    "accuracy_score(y_test, y_pred_test_tuned)"
   ]
  },
  {
   "cell_type": "code",
   "execution_count": 27,
   "metadata": {},
   "outputs": [
    {
     "data": {
      "text/plain": [
       "array([1, 0, 1, ..., 0, 0, 1])"
      ]
     },
     "execution_count": 27,
     "metadata": {},
     "output_type": "execute_result"
    }
   ],
   "source": [
    "import pickle\n",
    "# create an iterator object with write permission - model.pkl\n",
    "with open('XGBoost_pkl_Latest2.pkl', 'wb') as files:\n",
    "    pickle.dump(xgb_classifier, files)\n",
    "    \n",
    "# model = pickle.load(open('XGBoost_pkl_Latest2.pkl', 'rb'))\n",
    "# model.score(X_test, y_test)\n",
    "\n",
    "\n",
    "xgb_classifier.save_model('model.txt')\n",
    "\n",
    "\n",
    "model = xgboost.XGBClassifier()\n",
    "model.load_model('model.txt')\n",
    "\n",
    "model.score(X_test, y_pred_test_tuned)\n",
    " \n",
    "model.predict(X_test)"
   ]
  },
  {
   "cell_type": "code",
   "execution_count": null,
   "metadata": {},
   "outputs": [],
   "source": []
  }
 ],
 "metadata": {
  "kernelspec": {
   "display_name": "Python 3.9.12 ('CondaApp')",
   "language": "python",
   "name": "python3"
  },
  "language_info": {
   "codemirror_mode": {
    "name": "ipython",
    "version": 3
   },
   "file_extension": ".py",
   "mimetype": "text/x-python",
   "name": "python",
   "nbconvert_exporter": "python",
   "pygments_lexer": "ipython3",
   "version": "3.9.12"
  },
  "vscode": {
   "interpreter": {
    "hash": "8f10d87a4f320654bed30506a8edcbb55da23c6b4a3a4aca809c6615561d6b8d"
   }
  }
 },
 "nbformat": 4,
 "nbformat_minor": 2
}
