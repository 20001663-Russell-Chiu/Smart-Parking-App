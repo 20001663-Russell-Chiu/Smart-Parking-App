{
 "cells": [
  {
   "cell_type": "code",
   "execution_count": 32,
   "metadata": {},
   "outputs": [
    {
     "name": "stdout",
     "output_type": "stream",
     "text": [
      "1.5.0\n"
     ]
    }
   ],
   "source": [
    "# First XGBoost model\n",
    "import numpy as np\n",
    "import streamlit as st\n",
    "import sklearn\n",
    "import datetime\n",
    "import pytz\n",
    "import pickle\n",
    "import re # for regex\n",
    "import random\n",
    "from numpy import loadtxt\n",
    "from xgboost import XGBClassifier\n",
    "import xgboost\n",
    "from sklearn.model_selection import train_test_split\n",
    "from sklearn.metrics import accuracy_score,classification_report\n",
    "import numpy as np\n",
    "import pandas as pd\n",
    "import pickle as pk\n",
    "import seaborn as sns\n",
    "import matplotlib.pyplot as plt\n",
    "from sklearn.metrics import plot_confusion_matrix, ConfusionMatrixDisplay\n",
    "from sklearn.model_selection import train_test_split\n",
    "from sklearn.preprocessing import LabelEncoder\n",
    "from sklearn.metrics import precision_score\n",
    "from sklearn.metrics import accuracy_score\n",
    "from sklearn.metrics import recall_score\n",
    "from sklearn.metrics import f1_score\n",
    "from datetime import datetime, date\n",
    "import calendar\n",
    "from sklearn import ensemble\n",
    "from sklearn.model_selection import StratifiedKFold\n",
    "import sklearn.metrics as metrics\n",
    "import warnings\n",
    "warnings.filterwarnings('ignore')\n",
    "print(xgboost.__version__)"
   ]
  },
  {
   "cell_type": "code",
   "execution_count": 33,
   "metadata": {},
   "outputs": [
    {
     "name": "stdout",
     "output_type": "stream",
     "text": [
      "<class 'pandas.core.frame.DataFrame'>\n",
      "Int64Index: 11548 entries, 6771 to 5169\n",
      "Data columns (total 10 columns):\n",
      " #   Column            Non-Null Count  Dtype  \n",
      "---  ------            --------------  -----  \n",
      " 0   SESSIONID         11548 non-null  object \n",
      " 1   CARPARKNUMBER     11548 non-null  object \n",
      " 2   VEHICLETYPE       11548 non-null  object \n",
      " 3   SESSIONSTART      11548 non-null  object \n",
      " 4   SESSIONEND        11548 non-null  object \n",
      " 5   TOTAL_CHARGE      11548 non-null  float64\n",
      " 6   DURATION          11548 non-null  int64  \n",
      " 7   EFFECTIVE_CHARGE  11548 non-null  float64\n",
      " 8   LOT_NUMBER        11548 non-null  int64  \n",
      " 9   LABEL_TYPE        11548 non-null  int64  \n",
      "dtypes: float64(2), int64(3), object(5)\n",
      "memory usage: 992.4+ KB\n",
      "None\n"
     ]
    }
   ],
   "source": [
    "#Load Dataset\n",
    "from sklearn.model_selection import train_test_split\n",
    "from sklearn.preprocessing import StandardScaler\n",
    "# Loading the dataset \n",
    "currentdf  = pd.read_csv(r\"C:\\Users\\Russell\\Desktop\\SmartParkingApp\\PL80_Dataset_1.csv\")\n",
    "currentdf = currentdf.dropna()\n",
    "currentdf = currentdf.sample(frac=1)\n",
    "\n",
    "print(currentdf.info())"
   ]
  },
  {
   "cell_type": "code",
   "execution_count": 34,
   "metadata": {},
   "outputs": [
    {
     "data": {
      "text/html": [
       "<div>\n",
       "<style scoped>\n",
       "    .dataframe tbody tr th:only-of-type {\n",
       "        vertical-align: middle;\n",
       "    }\n",
       "\n",
       "    .dataframe tbody tr th {\n",
       "        vertical-align: top;\n",
       "    }\n",
       "\n",
       "    .dataframe thead th {\n",
       "        text-align: right;\n",
       "    }\n",
       "</style>\n",
       "<table border=\"1\" class=\"dataframe\">\n",
       "  <thead>\n",
       "    <tr style=\"text-align: right;\">\n",
       "      <th></th>\n",
       "      <th>VEHICLETYPE</th>\n",
       "      <th>SESSIONSTART</th>\n",
       "      <th>SESSIONEND</th>\n",
       "      <th>TOTAL_CHARGE</th>\n",
       "      <th>DURATION</th>\n",
       "      <th>EFFECTIVE_CHARGE</th>\n",
       "    </tr>\n",
       "  </thead>\n",
       "  <tbody>\n",
       "    <tr>\n",
       "      <th>6771</th>\n",
       "      <td>C</td>\n",
       "      <td>18/8/2021 21:20</td>\n",
       "      <td>18/8/2021 22:21</td>\n",
       "      <td>1.22</td>\n",
       "      <td>61</td>\n",
       "      <td>1.22</td>\n",
       "    </tr>\n",
       "    <tr>\n",
       "      <th>10923</th>\n",
       "      <td>C</td>\n",
       "      <td>25/10/2021 19:48</td>\n",
       "      <td>25/10/2021 20:08</td>\n",
       "      <td>0.00</td>\n",
       "      <td>20</td>\n",
       "      <td>0.00</td>\n",
       "    </tr>\n",
       "    <tr>\n",
       "      <th>5242</th>\n",
       "      <td>C</td>\n",
       "      <td>29/10/2021 19:36</td>\n",
       "      <td>29/10/2021 19:37</td>\n",
       "      <td>0.00</td>\n",
       "      <td>1</td>\n",
       "      <td>0.00</td>\n",
       "    </tr>\n",
       "    <tr>\n",
       "      <th>1336</th>\n",
       "      <td>C</td>\n",
       "      <td>10/10/2021 23:01</td>\n",
       "      <td>11/10/2021 9:27</td>\n",
       "      <td>0.00</td>\n",
       "      <td>626</td>\n",
       "      <td>0.00</td>\n",
       "    </tr>\n",
       "    <tr>\n",
       "      <th>3978</th>\n",
       "      <td>C</td>\n",
       "      <td>23/10/2021 20:19</td>\n",
       "      <td>24/10/2021 18:12</td>\n",
       "      <td>0.00</td>\n",
       "      <td>1313</td>\n",
       "      <td>0.00</td>\n",
       "    </tr>\n",
       "  </tbody>\n",
       "</table>\n",
       "</div>"
      ],
      "text/plain": [
       "      VEHICLETYPE      SESSIONSTART        SESSIONEND  TOTAL_CHARGE  DURATION  \\\n",
       "6771            C   18/8/2021 21:20   18/8/2021 22:21          1.22        61   \n",
       "10923           C  25/10/2021 19:48  25/10/2021 20:08          0.00        20   \n",
       "5242            C  29/10/2021 19:36  29/10/2021 19:37          0.00         1   \n",
       "1336            C  10/10/2021 23:01   11/10/2021 9:27          0.00       626   \n",
       "3978            C  23/10/2021 20:19  24/10/2021 18:12          0.00      1313   \n",
       "\n",
       "       EFFECTIVE_CHARGE  \n",
       "6771               1.22  \n",
       "10923              0.00  \n",
       "5242               0.00  \n",
       "1336               0.00  \n",
       "3978               0.00  "
      ]
     },
     "execution_count": 34,
     "metadata": {},
     "output_type": "execute_result"
    }
   ],
   "source": [
    "#y is the output and X is the input to train\n",
    "y = currentdf['LABEL_TYPE']\n",
    "X = currentdf.drop(['SESSIONID','CARPARKNUMBER','LABEL_TYPE', 'LOT_NUMBER'], axis = 1)\n",
    "X.head()"
   ]
  },
  {
   "cell_type": "code",
   "execution_count": 35,
   "metadata": {},
   "outputs": [
    {
     "name": "stdout",
     "output_type": "stream",
     "text": [
      "       VEHICLETYPE  SESSIONSTART  SESSIONEND  TOTAL_CHARGE  DURATION  \\\n",
      "6771             0    27155360.0  27155421.0          1.22        61   \n",
      "10923            0    27253188.0  27253208.0          0.00        20   \n",
      "5242             0    27258936.0  27258937.0          0.00         1   \n",
      "1336             0    27231781.0  27232407.0          0.00       626   \n",
      "3978             0    27250339.0  27251652.0          0.00      1313   \n",
      "7655             0    27179856.0  27180038.0          3.64       182   \n",
      "9124             0    27221463.0  27221623.0          3.20       160   \n",
      "414              0    27225804.0  27226627.0          0.00       823   \n",
      "5046             0    27257482.0  27258232.0          0.00       750   \n",
      "7283             0    27169851.0  27170009.0          3.16       158   \n",
      "\n",
      "       EFFECTIVE_CHARGE  \n",
      "6771               1.22  \n",
      "10923              0.00  \n",
      "5242               0.00  \n",
      "1336               0.00  \n",
      "3978               0.00  \n",
      "7655               3.64  \n",
      "9124               3.20  \n",
      "414                0.00  \n",
      "5046               0.00  \n",
      "7283               3.16  \n",
      "6771     0\n",
      "10923    0\n",
      "5242     1\n",
      "1336     1\n",
      "3978     1\n",
      "7655     0\n",
      "9124     0\n",
      "414      1\n",
      "5046     1\n",
      "7283     0\n",
      "Name: LABEL_TYPE, dtype: int64\n"
     ]
    }
   ],
   "source": [
    "#Used LabelEncoder to get numeric values\n",
    "le = LabelEncoder()\n",
    "X['VEHICLETYPE'] = le.fit_transform(X['VEHICLETYPE'])\n",
    "\n",
    "X['SESSIONSTART'] = pd.to_datetime(X['SESSIONSTART'], format='%d/%m/%Y %H:%M', infer_datetime_format=True)\n",
    "X['SESSIONEND'] = pd.to_datetime(X['SESSIONEND'], format='%d/%m/%Y %H:%M', infer_datetime_format=True)\n",
    "\n",
    "X['SESSIONSTART'] = pd.to_datetime(X['SESSIONSTART']).map(pd.Timestamp.timestamp)\n",
    "X['SESSIONEND'] = pd.to_datetime(X['SESSIONEND']).map(pd.Timestamp.timestamp)\n",
    "\n",
    "X['SESSIONSTART'] = X['SESSIONSTART'] / 60\n",
    "X['SESSIONEND'] = X['SESSIONEND'] / 60\n",
    "\n",
    "print(X.head(10))\n",
    "print(y.head(10))\n",
    "\n",
    "#Standardized\n",
    "sc = StandardScaler()\n",
    "X = sc.fit_transform(X)\n",
    "\n",
    "#Return back to dataFrame\n",
    "X = pd.DataFrame(X)"
   ]
  },
  {
   "cell_type": "code",
   "execution_count": 36,
   "metadata": {},
   "outputs": [
    {
     "data": {
      "text/plain": [
       "0.9424242424242424"
      ]
     },
     "execution_count": 36,
     "metadata": {},
     "output_type": "execute_result"
    }
   ],
   "source": [
    "#Tuning with Hyper Parameters\n",
    "\n",
    "X_train, X_test, y_train, y_test = train_test_split(X, y, test_size = 0.20)\n",
    "\n",
    "xgb_classifier = XGBClassifier(base_score=0.5, booster='gbtree',\n",
    "                               colsample_bylevel=1,\n",
    "                               colsample_bynode=1,\n",
    "                               colsample_bytree=0.5,\n",
    "                               enable_categorical=False,\n",
    "                               eval_metric='mlogloss',\n",
    "                               gamma=0.1,  \n",
    "                               gpu_id=-1,\n",
    "                               importance_type=None,\n",
    "                               interaction_constraints='',\n",
    "                               learning_rate=0.2,\n",
    "                               max_delta_step=0,\n",
    "                               max_depth=15,\n",
    "                               min_child_weight=1,\n",
    "                               monotone_constraints='()',\n",
    "                               n_estimators=100,\n",
    "                               n_jobs=12, num_parallel_tree=1,\n",
    "                               predictor='auto',\n",
    "                               random_state=0,\n",
    "                               reg_alpha=0,\n",
    "                               reg_lambda=1,\n",
    "                               scale_pos_weight=1,\n",
    "                               subsample=1,\n",
    "                               tree_method='exact',\n",
    "                               validate_parameters=1,\n",
    "                               verbosity=None)\n",
    "\n",
    "xgb_classifier.fit(X_train, y_train)\n",
    "y_pred_test_tuned = xgb_classifier.predict(X_test)   \n",
    "accuracy_score(y_test, y_pred_test_tuned)"
   ]
  },
  {
   "cell_type": "code",
   "execution_count": 37,
   "metadata": {},
   "outputs": [
    {
     "ename": "AttributeError",
     "evalue": "'list' object has no attribute 'reshape'",
     "output_type": "error",
     "traceback": [
      "\u001b[1;31m---------------------------------------------------------------------------\u001b[0m",
      "\u001b[1;31mAttributeError\u001b[0m                            Traceback (most recent call last)",
      "\u001b[1;32mc:\\Users\\Russell\\Desktop\\SmartParkingApp\\XGBoost-Main-PickleVer.ipynb Cell 6\u001b[0m in \u001b[0;36m<cell line: 20>\u001b[1;34m()\u001b[0m\n\u001b[0;32m     <a href='vscode-notebook-cell:/c%3A/Users/Russell/Desktop/SmartParkingApp/XGBoost-Main-PickleVer.ipynb#ch0000005?line=14'>15</a>\u001b[0m     \u001b[39mreturn\u001b[39;00m model\n\u001b[0;32m     <a href='vscode-notebook-cell:/c%3A/Users/Russell/Desktop/SmartParkingApp/XGBoost-Main-PickleVer.ipynb#ch0000005?line=17'>18</a>\u001b[0m featureList \u001b[39m=\u001b[39m [\u001b[39m0\u001b[39m, \u001b[39m27249480.0\u001b[39m, \u001b[39m27249481.0\u001b[39m,  \u001b[39m0.00\u001b[39m, \u001b[39m1\u001b[39m, \u001b[39m0\u001b[39m]\n\u001b[1;32m---> <a href='vscode-notebook-cell:/c%3A/Users/Russell/Desktop/SmartParkingApp/XGBoost-Main-PickleVer.ipynb#ch0000005?line=19'>20</a>\u001b[0m ReshapedArray \u001b[39m=\u001b[39m featureList\u001b[39m.\u001b[39;49mreshape(\u001b[39m1\u001b[39m,\u001b[39m-\u001b[39m\u001b[39m1\u001b[39m)\n\u001b[0;32m     <a href='vscode-notebook-cell:/c%3A/Users/Russell/Desktop/SmartParkingApp/XGBoost-Main-PickleVer.ipynb#ch0000005?line=21'>22</a>\u001b[0m modelselect()\u001b[39m.\u001b[39mpredict(ReshapedArray)\n",
      "\u001b[1;31mAttributeError\u001b[0m: 'list' object has no attribute 'reshape'"
     ]
    }
   ],
   "source": [
    "import pickle\n",
    "# create an iterator object with write permission - model.pkl\n",
    "with open('XGBoost_pkl_Latest2.pkl', 'wb') as files:\n",
    "    pickle.dump(xgb_classifier, files)\n",
    "    \n",
    "# model = pickle.load(open('XGBoost_pkl_Latest2.pkl', 'rb'))\n",
    "# model.score(X_test, y_test)\n",
    "\n",
    "\n",
    "xgb_classifier.save_model('model.txt')\n",
    "\n",
    "def modelselect():\n",
    "    model = xgboost.XGBClassifier()\n",
    "    model.load_model('model.txt')\n",
    "    return model\n",
    "\n",
    "\n",
    "featureList = [0, 27249480.0, 27249481.0,  0.00, 1, 0]\n",
    "\n",
    "toNParray = np.asarray(featureList)\n",
    "ReshapedArray = toNParray.reshape(1,-1)\n",
    "\n",
    "modelselect().predict(ReshapedArray)\n"
   ]
  },
  {
   "cell_type": "code",
   "execution_count": null,
   "metadata": {},
   "outputs": [],
   "source": []
  }
 ],
 "metadata": {
  "kernelspec": {
   "display_name": "Python 3.9.12 ('CondaApp')",
   "language": "python",
   "name": "python3"
  },
  "language_info": {
   "codemirror_mode": {
    "name": "ipython",
    "version": 3
   },
   "file_extension": ".py",
   "mimetype": "text/x-python",
   "name": "python",
   "nbconvert_exporter": "python",
   "pygments_lexer": "ipython3",
   "version": "3.9.12"
  },
  "vscode": {
   "interpreter": {
    "hash": "8f10d87a4f320654bed30506a8edcbb55da23c6b4a3a4aca809c6615561d6b8d"
   }
  }
 },
 "nbformat": 4,
 "nbformat_minor": 2
}
