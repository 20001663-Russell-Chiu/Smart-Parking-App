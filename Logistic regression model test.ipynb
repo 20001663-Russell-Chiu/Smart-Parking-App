{
 "cells": [
  {
   "cell_type": "code",
   "execution_count": 2,
   "id": "246c1f16",
   "metadata": {},
   "outputs": [],
   "source": [
    "#step 1: Import the required modules\n",
    "import pandas as pd\n",
    "from sklearn.linear_model import LogisticRegression\n",
    "from sklearn.neighbors import KNeighborsClassifier\n",
    "import matplotlib.pyplot as plt\n",
    "from sklearn import preprocessing\n",
    "from sklearn.preprocessing import StandardScaler\n",
    "from sklearn.model_selection import train_test_split, KFold, cross_val_score\n",
    "import numpy as np\n",
    "from sklearn.metrics import confusion_matrix,ConfusionMatrixDisplay, accuracy_score\n",
    "from sklearn import metrics\n",
    "from sklearn.model_selection import StratifiedKFold, KFold\n",
    "from sklearn.model_selection import *\n",
    "from sklearn.model_selection import GridSearchCV\n",
    "import seaborn as sn\n",
    "from sklearn.pipeline import make_pipeline\n",
    "from sklearn.preprocessing import StandardScaler\n",
    "import pickle"
   ]
  },
  {
   "cell_type": "code",
   "execution_count": 3,
   "id": "87292284",
   "metadata": {},
   "outputs": [],
   "source": [
    "#step 2: importing in my dataset from my directory\n",
    "datasetpre = pd.read_csv(r\"C:\\Users\\Russell\\Desktop\\SmartParkingApp\\PL80_Dataset_1.csv\")\n",
    "\n",
    "dataset = datasetpre.sample(frac=1)"
   ]
  },
  {
   "cell_type": "code",
   "execution_count": 4,
   "id": "74257d36",
   "metadata": {},
   "outputs": [
    {
     "data": {
      "text/html": [
       "<div>\n",
       "<style scoped>\n",
       "    .dataframe tbody tr th:only-of-type {\n",
       "        vertical-align: middle;\n",
       "    }\n",
       "\n",
       "    .dataframe tbody tr th {\n",
       "        vertical-align: top;\n",
       "    }\n",
       "\n",
       "    .dataframe thead th {\n",
       "        text-align: right;\n",
       "    }\n",
       "</style>\n",
       "<table border=\"1\" class=\"dataframe\">\n",
       "  <thead>\n",
       "    <tr style=\"text-align: right;\">\n",
       "      <th></th>\n",
       "      <th>VEHICLETYPE</th>\n",
       "      <th>SESSIONSTART</th>\n",
       "      <th>SESSIONEND</th>\n",
       "      <th>TOTAL_CHARGE</th>\n",
       "      <th>DURATION</th>\n",
       "      <th>EFFECTIVE_CHARGE</th>\n",
       "    </tr>\n",
       "  </thead>\n",
       "  <tbody>\n",
       "    <tr>\n",
       "      <th>11053</th>\n",
       "      <td>C</td>\n",
       "      <td>27/10/2021 20:31</td>\n",
       "      <td>27/10/2021 20:48</td>\n",
       "      <td>0.00</td>\n",
       "      <td>17</td>\n",
       "      <td>0.00</td>\n",
       "    </tr>\n",
       "    <tr>\n",
       "      <th>9530</th>\n",
       "      <td>C</td>\n",
       "      <td>8/10/2021 23:57</td>\n",
       "      <td>9/10/2021 0:01</td>\n",
       "      <td>0.00</td>\n",
       "      <td>4</td>\n",
       "      <td>0.00</td>\n",
       "    </tr>\n",
       "    <tr>\n",
       "      <th>2444</th>\n",
       "      <td>C</td>\n",
       "      <td>17/10/2021 0:52</td>\n",
       "      <td>17/10/2021 0:54</td>\n",
       "      <td>0.00</td>\n",
       "      <td>2</td>\n",
       "      <td>0.00</td>\n",
       "    </tr>\n",
       "    <tr>\n",
       "      <th>3415</th>\n",
       "      <td>C</td>\n",
       "      <td>21/10/2021 21:45</td>\n",
       "      <td>22/10/2021 6:58</td>\n",
       "      <td>0.00</td>\n",
       "      <td>553</td>\n",
       "      <td>0.00</td>\n",
       "    </tr>\n",
       "    <tr>\n",
       "      <th>7348</th>\n",
       "      <td>C</td>\n",
       "      <td>30/8/2021 1:01</td>\n",
       "      <td>30/8/2021 1:37</td>\n",
       "      <td>0.72</td>\n",
       "      <td>36</td>\n",
       "      <td>0.72</td>\n",
       "    </tr>\n",
       "  </tbody>\n",
       "</table>\n",
       "</div>"
      ],
      "text/plain": [
       "      VEHICLETYPE      SESSIONSTART        SESSIONEND  TOTAL_CHARGE  DURATION  \\\n",
       "11053           C  27/10/2021 20:31  27/10/2021 20:48          0.00        17   \n",
       "9530            C   8/10/2021 23:57    9/10/2021 0:01          0.00         4   \n",
       "2444            C   17/10/2021 0:52   17/10/2021 0:54          0.00         2   \n",
       "3415            C  21/10/2021 21:45   22/10/2021 6:58          0.00       553   \n",
       "7348            C    30/8/2021 1:01    30/8/2021 1:37          0.72        36   \n",
       "\n",
       "       EFFECTIVE_CHARGE  \n",
       "11053              0.00  \n",
       "9530               0.00  \n",
       "2444               0.00  \n",
       "3415               0.00  \n",
       "7348               0.72  "
      ]
     },
     "execution_count": 4,
     "metadata": {},
     "output_type": "execute_result"
    }
   ],
   "source": [
    "#step 3: Creating X values\n",
    "\n",
    "X = dataset.iloc[:,2:8]\n",
    "\n",
    "X.head()\n"
   ]
  },
  {
   "cell_type": "code",
   "execution_count": 5,
   "id": "021644ec",
   "metadata": {},
   "outputs": [
    {
     "data": {
      "text/plain": [
       "11053    0\n",
       "9530     0\n",
       "2444     1\n",
       "3415     1\n",
       "7348     0\n",
       "Name: LABEL_TYPE, dtype: int64"
      ]
     },
     "execution_count": 5,
     "metadata": {},
     "output_type": "execute_result"
    }
   ],
   "source": [
    "#step 4: Creating Y values\n",
    "Y = dataset.iloc[:,9]\n",
    "\n",
    "Y.head()"
   ]
  },
  {
   "cell_type": "code",
   "execution_count": 6,
   "id": "46cbae24",
   "metadata": {},
   "outputs": [
    {
     "data": {
      "text/html": [
       "<div>\n",
       "<style scoped>\n",
       "    .dataframe tbody tr th:only-of-type {\n",
       "        vertical-align: middle;\n",
       "    }\n",
       "\n",
       "    .dataframe tbody tr th {\n",
       "        vertical-align: top;\n",
       "    }\n",
       "\n",
       "    .dataframe thead th {\n",
       "        text-align: right;\n",
       "    }\n",
       "</style>\n",
       "<table border=\"1\" class=\"dataframe\">\n",
       "  <thead>\n",
       "    <tr style=\"text-align: right;\">\n",
       "      <th></th>\n",
       "      <th>VEHICLETYPE</th>\n",
       "      <th>SESSIONSTART</th>\n",
       "      <th>SESSIONEND</th>\n",
       "      <th>TOTAL_CHARGE</th>\n",
       "      <th>DURATION</th>\n",
       "      <th>EFFECTIVE_CHARGE</th>\n",
       "    </tr>\n",
       "  </thead>\n",
       "  <tbody>\n",
       "    <tr>\n",
       "      <th>11053</th>\n",
       "      <td>0</td>\n",
       "      <td>27256111.0</td>\n",
       "      <td>27256128.0</td>\n",
       "      <td>0.00</td>\n",
       "      <td>17</td>\n",
       "      <td>0.00</td>\n",
       "    </tr>\n",
       "    <tr>\n",
       "      <th>9530</th>\n",
       "      <td>0</td>\n",
       "      <td>27228957.0</td>\n",
       "      <td>27228961.0</td>\n",
       "      <td>0.00</td>\n",
       "      <td>4</td>\n",
       "      <td>0.00</td>\n",
       "    </tr>\n",
       "    <tr>\n",
       "      <th>2444</th>\n",
       "      <td>0</td>\n",
       "      <td>27240532.0</td>\n",
       "      <td>27240534.0</td>\n",
       "      <td>0.00</td>\n",
       "      <td>2</td>\n",
       "      <td>0.00</td>\n",
       "    </tr>\n",
       "    <tr>\n",
       "      <th>3415</th>\n",
       "      <td>0</td>\n",
       "      <td>27247545.0</td>\n",
       "      <td>27248098.0</td>\n",
       "      <td>0.00</td>\n",
       "      <td>553</td>\n",
       "      <td>0.00</td>\n",
       "    </tr>\n",
       "    <tr>\n",
       "      <th>7348</th>\n",
       "      <td>0</td>\n",
       "      <td>27171421.0</td>\n",
       "      <td>27171457.0</td>\n",
       "      <td>0.72</td>\n",
       "      <td>36</td>\n",
       "      <td>0.72</td>\n",
       "    </tr>\n",
       "  </tbody>\n",
       "</table>\n",
       "</div>"
      ],
      "text/plain": [
       "       VEHICLETYPE  SESSIONSTART  SESSIONEND  TOTAL_CHARGE  DURATION  \\\n",
       "11053            0    27256111.0  27256128.0          0.00        17   \n",
       "9530             0    27228957.0  27228961.0          0.00         4   \n",
       "2444             0    27240532.0  27240534.0          0.00         2   \n",
       "3415             0    27247545.0  27248098.0          0.00       553   \n",
       "7348             0    27171421.0  27171457.0          0.72        36   \n",
       "\n",
       "       EFFECTIVE_CHARGE  \n",
       "11053              0.00  \n",
       "9530               0.00  \n",
       "2444               0.00  \n",
       "3415               0.00  \n",
       "7348               0.72  "
      ]
     },
     "execution_count": 6,
     "metadata": {},
     "output_type": "execute_result"
    }
   ],
   "source": [
    "#Creating label encoder\n",
    "le = preprocessing.LabelEncoder()\n",
    "X['VEHICLETYPE'] = le.fit_transform(X['VEHICLETYPE'])\n",
    "\n",
    "\n",
    "X['SESSIONSTART'] = pd.to_datetime(X['SESSIONSTART'], format='%d/%m/%Y %H:%M', infer_datetime_format=True)\n",
    "X['SESSIONEND'] = pd.to_datetime(X['SESSIONEND'], format='%d/%m/%Y %H:%M', infer_datetime_format=True)\n",
    "\n",
    "X['SESSIONSTART'] = pd.to_datetime(X['SESSIONSTART']).map(pd.Timestamp.timestamp)\n",
    "X['SESSIONEND'] = pd.to_datetime(X['SESSIONEND']).map(pd.Timestamp.timestamp)\n",
    "\n",
    "X['SESSIONSTART'] = X['SESSIONSTART'] / 60\n",
    "X['SESSIONEND'] = X['SESSIONEND'] / 60\n",
    "\n",
    "\n",
    "X.head()"
   ]
  },
  {
   "cell_type": "code",
   "execution_count": 7,
   "id": "335a1cb4",
   "metadata": {},
   "outputs": [],
   "source": [
    "#step 5: Split the data set\n",
    "X_train, X_test, Y_train, Y_test = train_test_split(X,Y, test_size=0.2)\n"
   ]
  },
  {
   "cell_type": "code",
   "execution_count": 8,
   "id": "63c5652d",
   "metadata": {},
   "outputs": [],
   "source": [
    "# log = LogisticRegression(C=3792.690190732246, max_iter=1400, penalty='l1',solver='liblinear')\n",
    "\n",
    "log = make_pipeline(StandardScaler(), LogisticRegression(C=3792.690190732246, max_iter=1400, penalty='l1',\n",
    "                   solver='liblinear'))\n",
    "  \n",
    "\n",
    "# param_grid = [\n",
    "#     {'penalty':['l1', 'l2', 'elasticnet', 'none'],\n",
    "#     'C' : np.logspace(-4,4,20),\n",
    "#     'solver' : ['lbfgs', 'newton-cg','sag','saga', 'liblinear'],\n",
    "#     'max_iter' :[100,400,1400,2500]\n",
    "#     }\n",
    "# ]\n",
    "\n",
    "# clf = GridSearchCV(log, param_grid = param_grid, cv=5,verbose=True, n_jobs=-1, error_score=np.nan)\n",
    "\n",
    "# best_clf = clf.fit(X_train, Y_train)"
   ]
  },
  {
   "cell_type": "code",
   "execution_count": 9,
   "id": "4ba99cf9",
   "metadata": {},
   "outputs": [],
   "source": [
    "#best_clf.best_estimator_\n",
    "#the best estimator returned was LogisticRegression(C=3792.690190732246, max_iter=1400, penalty='l1',solver='liblinear')\n",
    "\n",
    "# bestscore = best_clf.score(X_train,Y_train)\n",
    "# print(bestscore)"
   ]
  },
  {
   "cell_type": "code",
   "execution_count": 10,
   "id": "8dba84b5",
   "metadata": {},
   "outputs": [
    {
     "data": {
      "image/png": "[encoded data removed]",
      "text/plain": [
       "<Figure size 432x288 with 2 Axes>"
      ]
     },
     "metadata": {
      "needs_background": "light"
     },
     "output_type": "display_data"
    },
    {
     "name": "stdout",
     "output_type": "stream",
     "text": [
      "Accuracy: 0.914719\n",
      "Precision: Short Term-1.0 Season-0.857039\n",
      "Sensitivity: Short Term-0.825509 Season-1.0\n",
      "F1 Score: Short Term-0.904415 Season-0.923017\n"
     ]
    }
   ],
   "source": [
    "#standardize the dataset\n",
    "sc = StandardScaler()\n",
    "X_train_sc = sc.fit_transform(X_train)\n",
    "X_test_sc = sc.transform(X_test)\n",
    "\n",
    "log.fit(X_train, Y_train)\n",
    "y_pred = log.predict(X_test)\n",
    "    \n",
    "accuracy = metrics.accuracy_score(Y_test, y_pred)\n",
    "precision = metrics.precision_score(Y_test, y_pred, average=None)\n",
    "sensitivity = metrics.recall_score(Y_test, y_pred, average=None)\n",
    "f1_score = metrics.f1_score(Y_test, y_pred, average=None)\n",
    "    \n",
    "#Displays confusion matrix\n",
    "cm = metrics.confusion_matrix(Y_test, y_pred)\n",
    "disp = metrics.ConfusionMatrixDisplay(confusion_matrix=cm, display_labels=['Short Term Parking','Season Parking'])\n",
    "disp.plot()\n",
    "plt.title('Confusion Matrix of logistic regression')\n",
    "plt.show()\n",
    "    \n",
    "print(\"Accuracy: {0}\".format(round(accuracy,6)))\n",
    "print(\"Precision: Short Term-{0} Season-{1}\".format(round(precision[0],6), round(precision[1], 6)))\n",
    "print(\"Sensitivity: Short Term-{0} Season-{1}\".format(round(sensitivity[0],6), round(sensitivity[1], 6)))\n",
    "print(\"F1 Score: Short Term-{0} Season-{1}\".format(round(f1_score[0],6), round(f1_score[1], 6)))\n",
    "    "
   ]
  },
  {
   "cell_type": "code",
   "execution_count": 11,
   "id": "a4361af1",
   "metadata": {},
   "outputs": [],
   "source": [
    "def kFoldCV_splits(model, X, y, cv=KFold(n_splits=10)): #cv must be at least a KFold object\n",
    "    accuracy_list, precision_list, recall_list, f1_score_list = list(), list(), list(), list()\n",
    "    \n",
    "    X = pd.DataFrame(X)\n",
    "    y = pd.Series(y)\n",
    "    \n",
    "    for train, test in cv.split(X, y):\n",
    "        X_train, X_test, y_train, y_test = X.iloc[train], X.iloc[test], y.iloc[train], y.iloc[test] \n",
    "        \n",
    "        model.fit(X_train, y_train)\n",
    "        \n",
    "        y_pred = model.predict(X_test)\n",
    "        \n",
    "        accuracy_list.append(metrics.accuracy_score(y_test, y_pred))\n",
    "        precision_list.append(metrics.precision_score(y_test, y_pred, average=None))\n",
    "        recall_list.append(metrics.recall_score(y_test, y_pred, average=None))\n",
    "        f1_score_list.append(metrics.f1_score(y_test, y_pred, average=None))\n",
    "        \n",
    "    display_kfold_cv_results(accuracy_list, precision_list, recall_list, f1_score_list)\n",
    "    \n",
    "def display_kfold_cv_results(accuracy_list, precision_list, recall_list, f1_score_list):\n",
    "    accuracy = np.mean(accuracy_list)\n",
    "    precision_short, precision_season = np.mean([short for short, season in precision_list]), np.mean([season for short, season in precision_list])\n",
    "    sensitivity_short, sensitivity_season = np.mean([short for short, season in recall_list]), np.mean([short for short, season in recall_list])\n",
    "    f1_score_short, f1_score_season = np.mean([short for short, season in f1_score_list]), np.mean([short for short, season in f1_score_list])\n",
    "    \n",
    "    print(\"mean Accuracy: {0}\".format(round(accuracy,6)))\n",
    "    print(\"mean Precision: Short Term-{0} Season-{1}\".format(round(precision_short,6), round(precision_season, 6)))\n",
    "    print(\"mean Sensitivity: Short Term-{0} Season-{1}\".format(round(sensitivity_short,6), round(sensitivity_season, 6)))\n",
    "    print(\"mean F1 Score: Short Term-{0} Season-{1}\".format(round(f1_score_short,6), round(f1_score_season, 6)))\n"
   ]
  },
  {
   "cell_type": "code",
   "execution_count": 12,
   "id": "cb9d33a6",
   "metadata": {},
   "outputs": [
    {
     "name": "stdout",
     "output_type": "stream",
     "text": [
      "mean Accuracy: 0.917389\n",
      "mean Precision: Short Term-1.0 Season-0.859812\n",
      "mean Sensitivity: Short Term-0.832342 Season-0.832342\n",
      "mean F1 Score: Short Term-0.908458 Season-0.908458\n"
     ]
    }
   ],
   "source": [
    "kFoldCV_splits(log, X,Y)"
   ]
  },
  {
   "cell_type": "code",
   "execution_count": null,
   "id": "703a51e9",
   "metadata": {},
   "outputs": [],
   "source": []
  },
  {
   "cell_type": "code",
   "execution_count": 13,
   "id": "d00ec007",
   "metadata": {},
   "outputs": [
    {
     "data": {
      "text/plain": [
       "0.9180558562459407"
      ]
     },
     "execution_count": 13,
     "metadata": {},
     "output_type": "execute_result"
    }
   ],
   "source": [
    "with open('logreg.pkl', 'wb') as f:\n",
    "  pickle.dump(log,f)\n",
    "\n",
    "\n",
    "\n",
    "model = pickle.load(open('logreg.pkl', 'rb'))\n",
    "model.score(X_train, Y_train)"
   ]
  }
 ],
 "metadata": {
  "kernelspec": {
   "display_name": "Python 3.9.12 ('CondaApp')",
   "language": "python",
   "name": "python3"
  },
  "language_info": {
   "codemirror_mode": {
    "name": "ipython",
    "version": 3
   },
   "file_extension": ".py",
   "mimetype": "text/x-python",
   "name": "python",
   "nbconvert_exporter": "python",
   "pygments_lexer": "ipython3",
   "version": "3.9.12"
  },
  "vscode": {
   "interpreter": {
    "hash": "8f10d87a4f320654bed30506a8edcbb55da23c6b4a3a4aca809c6615561d6b8d"
   }
  }
 },
 "nbformat": 4,
 "nbformat_minor": 5
}
