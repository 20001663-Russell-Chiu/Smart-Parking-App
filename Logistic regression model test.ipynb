{
 "cells": [
  {
   "cell_type": "code",
   "execution_count": 1,
   "id": "246c1f16",
   "metadata": {},
   "outputs": [],
   "source": [
    "#step 1: Import the required modules\n",
    "import pandas as pd\n",
    "from sklearn.linear_model import LogisticRegression\n",
    "from sklearn.neighbors import KNeighborsClassifier\n",
    "import matplotlib.pyplot as plt\n",
    "from sklearn import preprocessing\n",
    "from sklearn.preprocessing import StandardScaler\n",
    "from sklearn.model_selection import train_test_split, KFold, cross_val_score\n",
    "import numpy as np\n",
    "from sklearn.metrics import confusion_matrix,ConfusionMatrixDisplay, accuracy_score\n",
    "from sklearn import metrics\n",
    "from sklearn.model_selection import StratifiedKFold, KFold\n",
    "from sklearn.model_selection import *\n",
    "from sklearn.model_selection import GridSearchCV\n",
    "import seaborn as sn\n",
    "from sklearn.pipeline import make_pipeline\n",
    "from sklearn.preprocessing import StandardScaler\n",
    "import pickle"
   ]
  },
  {
   "cell_type": "code",
   "execution_count": 2,
   "id": "87292284",
   "metadata": {},
   "outputs": [],
   "source": [
    "#step 2: importing in my dataset from my directory\n",
    "datasetpre = pd.read_csv(r\"C:\\Users\\Russell\\Desktop\\SmartParkingApp\\PL80_Dataset_1.csv\")\n",
    "\n",
    "dataset = datasetpre.sample(frac=1)"
   ]
  },
  {
   "cell_type": "code",
   "execution_count": 3,
   "id": "74257d36",
   "metadata": {},
   "outputs": [
    {
     "data": {
      "text/html": [
       "<div>\n",
       "<style scoped>\n",
       "    .dataframe tbody tr th:only-of-type {\n",
       "        vertical-align: middle;\n",
       "    }\n",
       "\n",
       "    .dataframe tbody tr th {\n",
       "        vertical-align: top;\n",
       "    }\n",
       "\n",
       "    .dataframe thead th {\n",
       "        text-align: right;\n",
       "    }\n",
       "</style>\n",
       "<table border=\"1\" class=\"dataframe\">\n",
       "  <thead>\n",
       "    <tr style=\"text-align: right;\">\n",
       "      <th></th>\n",
       "      <th>VEHICLETYPE</th>\n",
       "      <th>SESSIONSTART</th>\n",
       "      <th>SESSIONEND</th>\n",
       "      <th>TOTAL_CHARGE</th>\n",
       "      <th>DURATION</th>\n",
       "      <th>EFFECTIVE_CHARGE</th>\n",
       "    </tr>\n",
       "  </thead>\n",
       "  <tbody>\n",
       "    <tr>\n",
       "      <th>2722</th>\n",
       "      <td>C</td>\n",
       "      <td>18/10/2021 20:25</td>\n",
       "      <td>19/10/2021 6:23</td>\n",
       "      <td>0.00</td>\n",
       "      <td>598</td>\n",
       "      <td>0.00</td>\n",
       "    </tr>\n",
       "    <tr>\n",
       "      <th>961</th>\n",
       "      <td>C</td>\n",
       "      <td>9/10/2021 19:06</td>\n",
       "      <td>9/10/2021 20:46</td>\n",
       "      <td>0.00</td>\n",
       "      <td>100</td>\n",
       "      <td>0.00</td>\n",
       "    </tr>\n",
       "    <tr>\n",
       "      <th>3145</th>\n",
       "      <td>C</td>\n",
       "      <td>20/10/2021 20:25</td>\n",
       "      <td>21/10/2021 7:01</td>\n",
       "      <td>0.00</td>\n",
       "      <td>636</td>\n",
       "      <td>0.00</td>\n",
       "    </tr>\n",
       "    <tr>\n",
       "      <th>7800</th>\n",
       "      <td>C</td>\n",
       "      <td>7/9/2021 20:44</td>\n",
       "      <td>7/9/2021 21:50</td>\n",
       "      <td>1.32</td>\n",
       "      <td>66</td>\n",
       "      <td>1.32</td>\n",
       "    </tr>\n",
       "    <tr>\n",
       "      <th>11370</th>\n",
       "      <td>C</td>\n",
       "      <td>30/10/2021 19:45</td>\n",
       "      <td>31/10/2021 1:09</td>\n",
       "      <td>6.48</td>\n",
       "      <td>324</td>\n",
       "      <td>6.48</td>\n",
       "    </tr>\n",
       "  </tbody>\n",
       "</table>\n",
       "</div>"
      ],
      "text/plain": [
       "      VEHICLETYPE      SESSIONSTART       SESSIONEND  TOTAL_CHARGE  DURATION  \\\n",
       "2722            C  18/10/2021 20:25  19/10/2021 6:23          0.00       598   \n",
       "961             C   9/10/2021 19:06  9/10/2021 20:46          0.00       100   \n",
       "3145            C  20/10/2021 20:25  21/10/2021 7:01          0.00       636   \n",
       "7800            C    7/9/2021 20:44   7/9/2021 21:50          1.32        66   \n",
       "11370           C  30/10/2021 19:45  31/10/2021 1:09          6.48       324   \n",
       "\n",
       "       EFFECTIVE_CHARGE  \n",
       "2722               0.00  \n",
       "961                0.00  \n",
       "3145               0.00  \n",
       "7800               1.32  \n",
       "11370              6.48  "
      ]
     },
     "execution_count": 3,
     "metadata": {},
     "output_type": "execute_result"
    }
   ],
   "source": [
    "#step 3: Creating X values\n",
    "\n",
    "X = dataset.iloc[:,2:8]\n",
    "\n",
    "X.head()\n"
   ]
  },
  {
   "cell_type": "code",
   "execution_count": 4,
   "id": "021644ec",
   "metadata": {},
   "outputs": [
    {
     "data": {
      "text/plain": [
       "2722     1\n",
       "961      1\n",
       "3145     1\n",
       "7800     0\n",
       "11370    0\n",
       "Name: LABEL_TYPE, dtype: int64"
      ]
     },
     "execution_count": 4,
     "metadata": {},
     "output_type": "execute_result"
    }
   ],
   "source": [
    "#step 4: Creating Y values\n",
    "Y = dataset.iloc[:,9]\n",
    "\n",
    "Y.head()"
   ]
  },
  {
   "cell_type": "code",
   "execution_count": 5,
   "id": "46cbae24",
   "metadata": {},
   "outputs": [
    {
     "data": {
      "text/html": [
       "<div>\n",
       "<style scoped>\n",
       "    .dataframe tbody tr th:only-of-type {\n",
       "        vertical-align: middle;\n",
       "    }\n",
       "\n",
       "    .dataframe tbody tr th {\n",
       "        vertical-align: top;\n",
       "    }\n",
       "\n",
       "    .dataframe thead th {\n",
       "        text-align: right;\n",
       "    }\n",
       "</style>\n",
       "<table border=\"1\" class=\"dataframe\">\n",
       "  <thead>\n",
       "    <tr style=\"text-align: right;\">\n",
       "      <th></th>\n",
       "      <th>VEHICLETYPE</th>\n",
       "      <th>SESSIONSTART</th>\n",
       "      <th>SESSIONEND</th>\n",
       "      <th>TOTAL_CHARGE</th>\n",
       "      <th>DURATION</th>\n",
       "      <th>EFFECTIVE_CHARGE</th>\n",
       "    </tr>\n",
       "  </thead>\n",
       "  <tbody>\n",
       "    <tr>\n",
       "      <th>2722</th>\n",
       "      <td>0</td>\n",
       "      <td>27243145.0</td>\n",
       "      <td>27243743.0</td>\n",
       "      <td>0.00</td>\n",
       "      <td>598</td>\n",
       "      <td>0.00</td>\n",
       "    </tr>\n",
       "    <tr>\n",
       "      <th>961</th>\n",
       "      <td>0</td>\n",
       "      <td>27230106.0</td>\n",
       "      <td>27230206.0</td>\n",
       "      <td>0.00</td>\n",
       "      <td>100</td>\n",
       "      <td>0.00</td>\n",
       "    </tr>\n",
       "    <tr>\n",
       "      <th>3145</th>\n",
       "      <td>0</td>\n",
       "      <td>27246025.0</td>\n",
       "      <td>27246661.0</td>\n",
       "      <td>0.00</td>\n",
       "      <td>636</td>\n",
       "      <td>0.00</td>\n",
       "    </tr>\n",
       "    <tr>\n",
       "      <th>7800</th>\n",
       "      <td>0</td>\n",
       "      <td>27184124.0</td>\n",
       "      <td>27184190.0</td>\n",
       "      <td>1.32</td>\n",
       "      <td>66</td>\n",
       "      <td>1.32</td>\n",
       "    </tr>\n",
       "    <tr>\n",
       "      <th>11370</th>\n",
       "      <td>0</td>\n",
       "      <td>27260385.0</td>\n",
       "      <td>27260709.0</td>\n",
       "      <td>6.48</td>\n",
       "      <td>324</td>\n",
       "      <td>6.48</td>\n",
       "    </tr>\n",
       "  </tbody>\n",
       "</table>\n",
       "</div>"
      ],
      "text/plain": [
       "       VEHICLETYPE  SESSIONSTART  SESSIONEND  TOTAL_CHARGE  DURATION  \\\n",
       "2722             0    27243145.0  27243743.0          0.00       598   \n",
       "961              0    27230106.0  27230206.0          0.00       100   \n",
       "3145             0    27246025.0  27246661.0          0.00       636   \n",
       "7800             0    27184124.0  27184190.0          1.32        66   \n",
       "11370            0    27260385.0  27260709.0          6.48       324   \n",
       "\n",
       "       EFFECTIVE_CHARGE  \n",
       "2722               0.00  \n",
       "961                0.00  \n",
       "3145               0.00  \n",
       "7800               1.32  \n",
       "11370              6.48  "
      ]
     },
     "execution_count": 5,
     "metadata": {},
     "output_type": "execute_result"
    }
   ],
   "source": [
    "#Creating label encoder\n",
    "le = preprocessing.LabelEncoder()\n",
    "X['VEHICLETYPE'] = le.fit_transform(X['VEHICLETYPE'])\n",
    "\n",
    "\n",
    "X['SESSIONSTART'] = pd.to_datetime(X['SESSIONSTART'], format='%d/%m/%Y %H:%M', infer_datetime_format=True)\n",
    "X['SESSIONEND'] = pd.to_datetime(X['SESSIONEND'], format='%d/%m/%Y %H:%M', infer_datetime_format=True)\n",
    "\n",
    "X['SESSIONSTART'] = pd.to_datetime(X['SESSIONSTART']).map(pd.Timestamp.timestamp)\n",
    "X['SESSIONEND'] = pd.to_datetime(X['SESSIONEND']).map(pd.Timestamp.timestamp)\n",
    "\n",
    "X['SESSIONSTART'] = X['SESSIONSTART'] / 60\n",
    "X['SESSIONEND'] = X['SESSIONEND'] / 60\n",
    "\n",
    "\n",
    "X.head()"
   ]
  },
  {
   "cell_type": "code",
   "execution_count": 6,
   "id": "335a1cb4",
   "metadata": {},
   "outputs": [],
   "source": [
    "#step 5: Split the data set\n",
    "X_train, X_test, Y_train, Y_test = train_test_split(X,Y, test_size=0.2)\n"
   ]
  },
  {
   "cell_type": "code",
   "execution_count": 7,
   "id": "63c5652d",
   "metadata": {},
   "outputs": [],
   "source": [
    "# log = LogisticRegression(C=3792.690190732246, max_iter=1400, penalty='l1',solver='liblinear')\n",
    "\n",
    "log = make_pipeline(StandardScaler(), LogisticRegression(C=3792.690190732246, max_iter=1400, penalty='l1',\n",
    "                   solver='liblinear'))\n",
    "  \n",
    "\n",
    "# param_grid = [\n",
    "#     {'penalty':['l1', 'l2', 'elasticnet', 'none'],\n",
    "#     'C' : np.logspace(-4,4,20),\n",
    "#     'solver' : ['lbfgs', 'newton-cg','sag','saga', 'liblinear'],\n",
    "#     'max_iter' :[100,400,1400,2500]\n",
    "#     }\n",
    "# ]\n",
    "\n",
    "# clf = GridSearchCV(log, param_grid = param_grid, cv=5,verbose=True, n_jobs=-1, error_score=np.nan)\n",
    "\n",
    "# best_clf = clf.fit(X_train, Y_train)"
   ]
  },
  {
   "cell_type": "code",
   "execution_count": 8,
   "id": "4ba99cf9",
   "metadata": {},
   "outputs": [],
   "source": [
    "#best_clf.best_estimator_\n",
    "#the best estimator returned was LogisticRegression(C=3792.690190732246, max_iter=1400, penalty='l1',solver='liblinear')\n",
    "\n",
    "# bestscore = best_clf.score(X_train,Y_train)\n",
    "# print(bestscore)"
   ]
  },
  {
   "cell_type": "code",
   "execution_count": 9,
   "id": "8dba84b5",
   "metadata": {},
   "outputs": [
    {
     "data": {
      "image/png": "[encoded data removed]",
      "text/plain": [
       "<Figure size 432x288 with 2 Axes>"
      ]
     },
     "metadata": {
      "needs_background": "light"
     },
     "output_type": "display_data"
    },
    {
     "name": "stdout",
     "output_type": "stream",
     "text": [
      "Accuracy: 0.91039\n",
      "Precision: Short Term-1.0 Season-0.846097\n",
      "Sensitivity: Short Term-0.823379 Season-1.0\n",
      "F1 Score: Short Term-0.903135 Season-0.916633\n"
     ]
    }
   ],
   "source": [
    "#standardize the dataset\n",
    "sc = StandardScaler()\n",
    "X_train_sc = sc.fit_transform(X_train)\n",
    "X_test_sc = sc.transform(X_test)\n",
    "\n",
    "log.fit(X_train, Y_train)\n",
    "y_pred = log.predict(X_test)\n",
    "    \n",
    "accuracy = metrics.accuracy_score(Y_test, y_pred)\n",
    "precision = metrics.precision_score(Y_test, y_pred, average=None)\n",
    "sensitivity = metrics.recall_score(Y_test, y_pred, average=None)\n",
    "f1_score = metrics.f1_score(Y_test, y_pred, average=None)\n",
    "    \n",
    "#Displays confusion matrix\n",
    "cm = metrics.confusion_matrix(Y_test, y_pred)\n",
    "disp = metrics.ConfusionMatrixDisplay(confusion_matrix=cm, display_labels=['Short Term Parking','Season Parking'])\n",
    "disp.plot()\n",
    "plt.title('Confusion Matrix of logistic regression')\n",
    "plt.show()\n",
    "    \n",
    "print(\"Accuracy: {0}\".format(round(accuracy,6)))\n",
    "print(\"Precision: Short Term-{0} Season-{1}\".format(round(precision[0],6), round(precision[1], 6)))\n",
    "print(\"Sensitivity: Short Term-{0} Season-{1}\".format(round(sensitivity[0],6), round(sensitivity[1], 6)))\n",
    "print(\"F1 Score: Short Term-{0} Season-{1}\".format(round(f1_score[0],6), round(f1_score[1], 6)))\n",
    "    "
   ]
  },
  {
   "cell_type": "code",
   "execution_count": 10,
   "id": "a4361af1",
   "metadata": {},
   "outputs": [],
   "source": [
    "def kFoldCV_splits(model, X, y, cv=KFold(n_splits=10)): #cv must be at least a KFold object\n",
    "    accuracy_list, precision_list, recall_list, f1_score_list = list(), list(), list(), list()\n",
    "    \n",
    "    X = pd.DataFrame(X)\n",
    "    y = pd.Series(y)\n",
    "    \n",
    "    for train, test in cv.split(X, y):\n",
    "        X_train, X_test, y_train, y_test = X.iloc[train], X.iloc[test], y.iloc[train], y.iloc[test] \n",
    "        \n",
    "        model.fit(X_train, y_train)\n",
    "        \n",
    "        y_pred = model.predict(X_test)\n",
    "        \n",
    "        accuracy_list.append(metrics.accuracy_score(y_test, y_pred))\n",
    "        precision_list.append(metrics.precision_score(y_test, y_pred, average=None))\n",
    "        recall_list.append(metrics.recall_score(y_test, y_pred, average=None))\n",
    "        f1_score_list.append(metrics.f1_score(y_test, y_pred, average=None))\n",
    "        \n",
    "    display_kfold_cv_results(accuracy_list, precision_list, recall_list, f1_score_list)\n",
    "    \n",
    "def display_kfold_cv_results(accuracy_list, precision_list, recall_list, f1_score_list):\n",
    "    accuracy = np.mean(accuracy_list)\n",
    "    precision_short, precision_season = np.mean([short for short, season in precision_list]), np.mean([season for short, season in precision_list])\n",
    "    sensitivity_short, sensitivity_season = np.mean([short for short, season in recall_list]), np.mean([short for short, season in recall_list])\n",
    "    f1_score_short, f1_score_season = np.mean([short for short, season in f1_score_list]), np.mean([short for short, season in f1_score_list])\n",
    "    \n",
    "    print(\"mean Accuracy: {0}\".format(round(accuracy,6)))\n",
    "    print(\"mean Precision: Short Term-{0} Season-{1}\".format(round(precision_short,6), round(precision_season, 6)))\n",
    "    print(\"mean Sensitivity: Short Term-{0} Season-{1}\".format(round(sensitivity_short,6), round(sensitivity_season, 6)))\n",
    "    print(\"mean F1 Score: Short Term-{0} Season-{1}\".format(round(f1_score_short,6), round(f1_score_season, 6)))\n"
   ]
  },
  {
   "cell_type": "code",
   "execution_count": 11,
   "id": "cb9d33a6",
   "metadata": {},
   "outputs": [
    {
     "name": "stdout",
     "output_type": "stream",
     "text": [
      "mean Accuracy: 0.917387\n",
      "mean Precision: Short Term-1.0 Season-0.859926\n",
      "mean Sensitivity: Short Term-0.83233 Season-0.83233\n",
      "mean F1 Score: Short Term-0.908379 Season-0.908379\n"
     ]
    }
   ],
   "source": [
    "kFoldCV_splits(log, X,Y)"
   ]
  },
  {
   "cell_type": "code",
   "execution_count": null,
   "id": "703a51e9",
   "metadata": {},
   "outputs": [],
   "source": []
  },
  {
   "cell_type": "code",
   "execution_count": 12,
   "id": "d00ec007",
   "metadata": {},
   "outputs": [
    {
     "name": "stdout",
     "output_type": "stream",
     "text": [
      "The scikit-learn version is 1.1.1.\n"
     ]
    }
   ],
   "source": [
    "with open('logreg.pkl', 'wb') as f:\n",
    "  pickle.dump(log,f)\n",
    "\n",
    "\n",
    "\n",
    "model = pickle.load(open('logreg.pkl', 'rb'))\n",
    "model.score(X_train, Y_train)\n",
    "\n",
    "import sklearn\n",
    "print('The scikit-learn version is {}.'.format(sklearn.__version__))"
   ]
  }
 ],
 "metadata": {
  "kernelspec": {
   "display_name": "Python 3.9.12 ('CondaApp')",
   "language": "python",
   "name": "python3"
  },
  "language_info": {
   "codemirror_mode": {
    "name": "ipython",
    "version": 3
   },
   "file_extension": ".py",
   "mimetype": "text/x-python",
   "name": "python",
   "nbconvert_exporter": "python",
   "pygments_lexer": "ipython3",
   "version": "3.9.12"
  },
  "vscode": {
   "interpreter": {
    "hash": "8f10d87a4f320654bed30506a8edcbb55da23c6b4a3a4aca809c6615561d6b8d"
   }
  }
 },
 "nbformat": 4,
 "nbformat_minor": 5
}
