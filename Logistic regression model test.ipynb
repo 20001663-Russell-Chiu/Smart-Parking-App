{
 "cells": [
  {
   "cell_type": "code",
   "execution_count": 4,
   "id": "246c1f16",
   "metadata": {},
   "outputs": [],
   "source": [
    "#step 1: Import the required modules\n",
    "import pandas as pd\n",
    "from sklearn.linear_model import LogisticRegression\n",
    "from sklearn.neighbors import KNeighborsClassifier\n",
    "import matplotlib.pyplot as plt\n",
    "from sklearn import preprocessing\n",
    "from sklearn.preprocessing import StandardScaler\n",
    "from sklearn.model_selection import train_test_split, KFold, cross_val_score\n",
    "import numpy as np\n",
    "from sklearn.metrics import confusion_matrix,ConfusionMatrixDisplay, accuracy_score\n",
    "from sklearn import metrics\n",
    "from sklearn.model_selection import StratifiedKFold, KFold\n",
    "from sklearn.model_selection import *\n",
    "from sklearn.model_selection import GridSearchCV\n",
    "import seaborn as sn\n",
    "from sklearn.pipeline import make_pipeline\n",
    "from sklearn.preprocessing import StandardScaler\n",
    "import pickle"
   ]
  },
  {
   "cell_type": "code",
   "execution_count": 5,
   "id": "87292284",
   "metadata": {},
   "outputs": [],
   "source": [
    "#step 2: importing in my dataset from my directory\n",
    "datasetpre = pd.read_csv(r\"C:\\Users\\Russell\\Desktop\\SmartParkingApp\\PL80_Dataset_1.csv\")\n",
    "\n",
    "dataset = datasetpre.sample(frac=1)"
   ]
  },
  {
   "cell_type": "code",
   "execution_count": 6,
   "id": "74257d36",
   "metadata": {},
   "outputs": [
    {
     "data": {
      "text/html": [
       "<div>\n",
       "<style scoped>\n",
       "    .dataframe tbody tr th:only-of-type {\n",
       "        vertical-align: middle;\n",
       "    }\n",
       "\n",
       "    .dataframe tbody tr th {\n",
       "        vertical-align: top;\n",
       "    }\n",
       "\n",
       "    .dataframe thead th {\n",
       "        text-align: right;\n",
       "    }\n",
       "</style>\n",
       "<table border=\"1\" class=\"dataframe\">\n",
       "  <thead>\n",
       "    <tr style=\"text-align: right;\">\n",
       "      <th></th>\n",
       "      <th>VEHICLETYPE</th>\n",
       "      <th>SESSIONSTART</th>\n",
       "      <th>SESSIONEND</th>\n",
       "      <th>TOTAL_CHARGE</th>\n",
       "      <th>DURATION</th>\n",
       "      <th>EFFECTIVE_CHARGE</th>\n",
       "    </tr>\n",
       "  </thead>\n",
       "  <tbody>\n",
       "    <tr>\n",
       "      <th>4100</th>\n",
       "      <td>C</td>\n",
       "      <td>23/10/2021 23:57</td>\n",
       "      <td>24/10/2021 17:21</td>\n",
       "      <td>0.0</td>\n",
       "      <td>1044</td>\n",
       "      <td>0.0</td>\n",
       "    </tr>\n",
       "    <tr>\n",
       "      <th>10437</th>\n",
       "      <td>C</td>\n",
       "      <td>19/10/2021 23:55</td>\n",
       "      <td>19/10/2021 23:57</td>\n",
       "      <td>0.0</td>\n",
       "      <td>2</td>\n",
       "      <td>0.0</td>\n",
       "    </tr>\n",
       "    <tr>\n",
       "      <th>4445</th>\n",
       "      <td>C</td>\n",
       "      <td>25/10/2021 6:16</td>\n",
       "      <td>25/10/2021 6:18</td>\n",
       "      <td>0.0</td>\n",
       "      <td>2</td>\n",
       "      <td>0.0</td>\n",
       "    </tr>\n",
       "    <tr>\n",
       "      <th>1458</th>\n",
       "      <td>C</td>\n",
       "      <td>11/10/2021 21:43</td>\n",
       "      <td>12/10/2021 8:48</td>\n",
       "      <td>0.0</td>\n",
       "      <td>665</td>\n",
       "      <td>0.0</td>\n",
       "    </tr>\n",
       "    <tr>\n",
       "      <th>3282</th>\n",
       "      <td>C</td>\n",
       "      <td>21/10/2021 4:50</td>\n",
       "      <td>21/10/2021 14:03</td>\n",
       "      <td>0.0</td>\n",
       "      <td>553</td>\n",
       "      <td>0.0</td>\n",
       "    </tr>\n",
       "  </tbody>\n",
       "</table>\n",
       "</div>"
      ],
      "text/plain": [
       "      VEHICLETYPE      SESSIONSTART        SESSIONEND  TOTAL_CHARGE  DURATION  \\\n",
       "4100            C  23/10/2021 23:57  24/10/2021 17:21           0.0      1044   \n",
       "10437           C  19/10/2021 23:55  19/10/2021 23:57           0.0         2   \n",
       "4445            C   25/10/2021 6:16   25/10/2021 6:18           0.0         2   \n",
       "1458            C  11/10/2021 21:43   12/10/2021 8:48           0.0       665   \n",
       "3282            C   21/10/2021 4:50  21/10/2021 14:03           0.0       553   \n",
       "\n",
       "       EFFECTIVE_CHARGE  \n",
       "4100                0.0  \n",
       "10437               0.0  \n",
       "4445                0.0  \n",
       "1458                0.0  \n",
       "3282                0.0  "
      ]
     },
     "execution_count": 6,
     "metadata": {},
     "output_type": "execute_result"
    }
   ],
   "source": [
    "#step 3: Creating X values\n",
    "\n",
    "X = dataset.iloc[:,2:8]\n",
    "\n",
    "X.head()\n"
   ]
  },
  {
   "cell_type": "code",
   "execution_count": 7,
   "id": "021644ec",
   "metadata": {},
   "outputs": [
    {
     "data": {
      "text/plain": [
       "4100     1\n",
       "10437    0\n",
       "4445     1\n",
       "1458     1\n",
       "3282     1\n",
       "Name: LABEL_TYPE, dtype: int64"
      ]
     },
     "execution_count": 7,
     "metadata": {},
     "output_type": "execute_result"
    }
   ],
   "source": [
    "#step 4: Creating Y values\n",
    "Y = dataset.iloc[:,9]\n",
    "\n",
    "Y.head()"
   ]
  },
  {
   "cell_type": "code",
   "execution_count": 8,
   "id": "46cbae24",
   "metadata": {},
   "outputs": [
    {
     "data": {
      "text/html": [
       "<div>\n",
       "<style scoped>\n",
       "    .dataframe tbody tr th:only-of-type {\n",
       "        vertical-align: middle;\n",
       "    }\n",
       "\n",
       "    .dataframe tbody tr th {\n",
       "        vertical-align: top;\n",
       "    }\n",
       "\n",
       "    .dataframe thead th {\n",
       "        text-align: right;\n",
       "    }\n",
       "</style>\n",
       "<table border=\"1\" class=\"dataframe\">\n",
       "  <thead>\n",
       "    <tr style=\"text-align: right;\">\n",
       "      <th></th>\n",
       "      <th>VEHICLETYPE</th>\n",
       "      <th>SESSIONSTART</th>\n",
       "      <th>SESSIONEND</th>\n",
       "      <th>TOTAL_CHARGE</th>\n",
       "      <th>DURATION</th>\n",
       "      <th>EFFECTIVE_CHARGE</th>\n",
       "    </tr>\n",
       "  </thead>\n",
       "  <tbody>\n",
       "    <tr>\n",
       "      <th>4100</th>\n",
       "      <td>0</td>\n",
       "      <td>27250557.0</td>\n",
       "      <td>27251601.0</td>\n",
       "      <td>0.0</td>\n",
       "      <td>1044</td>\n",
       "      <td>0.0</td>\n",
       "    </tr>\n",
       "    <tr>\n",
       "      <th>10437</th>\n",
       "      <td>0</td>\n",
       "      <td>27244795.0</td>\n",
       "      <td>27244797.0</td>\n",
       "      <td>0.0</td>\n",
       "      <td>2</td>\n",
       "      <td>0.0</td>\n",
       "    </tr>\n",
       "    <tr>\n",
       "      <th>4445</th>\n",
       "      <td>0</td>\n",
       "      <td>27252376.0</td>\n",
       "      <td>27252378.0</td>\n",
       "      <td>0.0</td>\n",
       "      <td>2</td>\n",
       "      <td>0.0</td>\n",
       "    </tr>\n",
       "    <tr>\n",
       "      <th>1458</th>\n",
       "      <td>0</td>\n",
       "      <td>27233143.0</td>\n",
       "      <td>27233808.0</td>\n",
       "      <td>0.0</td>\n",
       "      <td>665</td>\n",
       "      <td>0.0</td>\n",
       "    </tr>\n",
       "    <tr>\n",
       "      <th>3282</th>\n",
       "      <td>0</td>\n",
       "      <td>27246530.0</td>\n",
       "      <td>27247083.0</td>\n",
       "      <td>0.0</td>\n",
       "      <td>553</td>\n",
       "      <td>0.0</td>\n",
       "    </tr>\n",
       "  </tbody>\n",
       "</table>\n",
       "</div>"
      ],
      "text/plain": [
       "       VEHICLETYPE  SESSIONSTART  SESSIONEND  TOTAL_CHARGE  DURATION  \\\n",
       "4100             0    27250557.0  27251601.0           0.0      1044   \n",
       "10437            0    27244795.0  27244797.0           0.0         2   \n",
       "4445             0    27252376.0  27252378.0           0.0         2   \n",
       "1458             0    27233143.0  27233808.0           0.0       665   \n",
       "3282             0    27246530.0  27247083.0           0.0       553   \n",
       "\n",
       "       EFFECTIVE_CHARGE  \n",
       "4100                0.0  \n",
       "10437               0.0  \n",
       "4445                0.0  \n",
       "1458                0.0  \n",
       "3282                0.0  "
      ]
     },
     "execution_count": 8,
     "metadata": {},
     "output_type": "execute_result"
    }
   ],
   "source": [
    "#Creating label encoder\n",
    "le = preprocessing.LabelEncoder()\n",
    "X['VEHICLETYPE'] = le.fit_transform(X['VEHICLETYPE'])\n",
    "\n",
    "\n",
    "X['SESSIONSTART'] = pd.to_datetime(X['SESSIONSTART'], format='%d/%m/%Y %H:%M', infer_datetime_format=True)\n",
    "X['SESSIONEND'] = pd.to_datetime(X['SESSIONEND'], format='%d/%m/%Y %H:%M', infer_datetime_format=True)\n",
    "\n",
    "X['SESSIONSTART'] = pd.to_datetime(X['SESSIONSTART']).map(pd.Timestamp.timestamp)\n",
    "X['SESSIONEND'] = pd.to_datetime(X['SESSIONEND']).map(pd.Timestamp.timestamp)\n",
    "\n",
    "X['SESSIONSTART'] = X['SESSIONSTART'] / 60\n",
    "X['SESSIONEND'] = X['SESSIONEND'] / 60\n",
    "\n",
    "\n",
    "X.head()"
   ]
  },
  {
   "cell_type": "code",
   "execution_count": 9,
   "id": "335a1cb4",
   "metadata": {},
   "outputs": [],
   "source": [
    "#step 5: Split the data set\n",
    "X_train, X_test, Y_train, Y_test = train_test_split(X,Y, test_size=0.2)\n"
   ]
  },
  {
   "cell_type": "code",
   "execution_count": 10,
   "id": "63c5652d",
   "metadata": {},
   "outputs": [],
   "source": [
    "# log = LogisticRegression(C=3792.690190732246, max_iter=1400, penalty='l1',solver='liblinear')\n",
    "\n",
    "log = make_pipeline(StandardScaler(), LogisticRegression(C=3792.690190732246, max_iter=1400, penalty='l1',\n",
    "                   solver='liblinear'))\n",
    "  \n",
    "\n",
    "# param_grid = [\n",
    "#     {'penalty':['l1', 'l2', 'elasticnet', 'none'],\n",
    "#     'C' : np.logspace(-4,4,20),\n",
    "#     'solver' : ['lbfgs', 'newton-cg','sag','saga', 'liblinear'],\n",
    "#     'max_iter' :[100,400,1400,2500]\n",
    "#     }\n",
    "# ]\n",
    "\n",
    "# clf = GridSearchCV(log, param_grid = param_grid, cv=5,verbose=True, n_jobs=-1, error_score=np.nan)\n",
    "\n",
    "# best_clf = clf.fit(X_train, Y_train)"
   ]
  },
  {
   "cell_type": "code",
   "execution_count": 11,
   "id": "4ba99cf9",
   "metadata": {},
   "outputs": [],
   "source": [
    "#best_clf.best_estimator_\n",
    "#the best estimator returned was LogisticRegression(C=3792.690190732246, max_iter=1400, penalty='l1',solver='liblinear')\n",
    "\n",
    "# bestscore = best_clf.score(X_train,Y_train)\n",
    "# print(bestscore)"
   ]
  },
  {
   "cell_type": "code",
   "execution_count": 12,
   "id": "8dba84b5",
   "metadata": {},
   "outputs": [
    {
     "data": {
      "image/png": "[encoded data removed]",
      "text/plain": [
       "<Figure size 432x288 with 2 Axes>"
      ]
     },
     "metadata": {
      "needs_background": "light"
     },
     "output_type": "display_data"
    },
    {
     "name": "stdout",
     "output_type": "stream",
     "text": [
      "Accuracy: 0.924675\n",
      "Precision: Short Term-1.0 Season-0.875\n",
      "Sensitivity: Short Term-0.840659 Season-1.0\n",
      "F1 Score: Short Term-0.913433 Season-0.933333\n"
     ]
    }
   ],
   "source": [
    "#standardize the dataset\n",
    "sc = StandardScaler()\n",
    "X_train_sc = sc.fit_transform(X_train)\n",
    "X_test_sc = sc.transform(X_test)\n",
    "\n",
    "log.fit(X_train, Y_train)\n",
    "y_pred = log.predict(X_test)\n",
    "    \n",
    "accuracy = metrics.accuracy_score(Y_test, y_pred)\n",
    "precision = metrics.precision_score(Y_test, y_pred, average=None)\n",
    "sensitivity = metrics.recall_score(Y_test, y_pred, average=None)\n",
    "f1_score = metrics.f1_score(Y_test, y_pred, average=None)\n",
    "    \n",
    "#Displays confusion matrix\n",
    "cm = metrics.confusion_matrix(Y_test, y_pred)\n",
    "disp = metrics.ConfusionMatrixDisplay(confusion_matrix=cm, display_labels=['Short Term Parking','Season Parking'])\n",
    "disp.plot()\n",
    "plt.title('Confusion Matrix of logistic regression')\n",
    "plt.show()\n",
    "    \n",
    "print(\"Accuracy: {0}\".format(round(accuracy,6)))\n",
    "print(\"Precision: Short Term-{0} Season-{1}\".format(round(precision[0],6), round(precision[1], 6)))\n",
    "print(\"Sensitivity: Short Term-{0} Season-{1}\".format(round(sensitivity[0],6), round(sensitivity[1], 6)))\n",
    "print(\"F1 Score: Short Term-{0} Season-{1}\".format(round(f1_score[0],6), round(f1_score[1], 6)))\n",
    "    "
   ]
  },
  {
   "cell_type": "code",
   "execution_count": 13,
   "id": "a4361af1",
   "metadata": {},
   "outputs": [],
   "source": [
    "def kFoldCV_splits(model, X, y, cv=KFold(n_splits=10)): #cv must be at least a KFold object\n",
    "    accuracy_list, precision_list, recall_list, f1_score_list = list(), list(), list(), list()\n",
    "    \n",
    "    X = pd.DataFrame(X)\n",
    "    y = pd.Series(y)\n",
    "    \n",
    "    for train, test in cv.split(X, y):\n",
    "        X_train, X_test, y_train, y_test = X.iloc[train], X.iloc[test], y.iloc[train], y.iloc[test] \n",
    "        \n",
    "        model.fit(X_train, y_train)\n",
    "        \n",
    "        y_pred = model.predict(X_test)\n",
    "        \n",
    "        accuracy_list.append(metrics.accuracy_score(y_test, y_pred))\n",
    "        precision_list.append(metrics.precision_score(y_test, y_pred, average=None))\n",
    "        recall_list.append(metrics.recall_score(y_test, y_pred, average=None))\n",
    "        f1_score_list.append(metrics.f1_score(y_test, y_pred, average=None))\n",
    "        \n",
    "    display_kfold_cv_results(accuracy_list, precision_list, recall_list, f1_score_list)\n",
    "    \n",
    "def display_kfold_cv_results(accuracy_list, precision_list, recall_list, f1_score_list):\n",
    "    accuracy = np.mean(accuracy_list)\n",
    "    precision_short, precision_season = np.mean([short for short, season in precision_list]), np.mean([season for short, season in precision_list])\n",
    "    sensitivity_short, sensitivity_season = np.mean([short for short, season in recall_list]), np.mean([short for short, season in recall_list])\n",
    "    f1_score_short, f1_score_season = np.mean([short for short, season in f1_score_list]), np.mean([short for short, season in f1_score_list])\n",
    "    \n",
    "    print(\"mean Accuracy: {0}\".format(round(accuracy,6)))\n",
    "    print(\"mean Precision: Short Term-{0} Season-{1}\".format(round(precision_short,6), round(precision_season, 6)))\n",
    "    print(\"mean Sensitivity: Short Term-{0} Season-{1}\".format(round(sensitivity_short,6), round(sensitivity_season, 6)))\n",
    "    print(\"mean F1 Score: Short Term-{0} Season-{1}\".format(round(f1_score_short,6), round(f1_score_season, 6)))\n"
   ]
  },
  {
   "cell_type": "code",
   "execution_count": 14,
   "id": "cb9d33a6",
   "metadata": {},
   "outputs": [
    {
     "name": "stdout",
     "output_type": "stream",
     "text": [
      "mean Accuracy: 0.91739\n",
      "mean Precision: Short Term-1.0 Season-0.859921\n",
      "mean Sensitivity: Short Term-0.83226 Season-0.83226\n",
      "mean F1 Score: Short Term-0.908369 Season-0.908369\n"
     ]
    }
   ],
   "source": [
    "kFoldCV_splits(log, X,Y)"
   ]
  },
  {
   "cell_type": "code",
   "execution_count": null,
   "id": "703a51e9",
   "metadata": {},
   "outputs": [],
   "source": []
  },
  {
   "cell_type": "code",
   "execution_count": 18,
   "id": "d00ec007",
   "metadata": {},
   "outputs": [
    {
     "name": "stdout",
     "output_type": "stream",
     "text": [
      "The scikit-learn version is 1.1.1.\n"
     ]
    },
    {
     "name": "stderr",
     "output_type": "stream",
     "text": [
      "c:\\Users\\Russell\\Anaconda3\\envs\\CondaApp\\lib\\site-packages\\sklearn\\base.py:450: UserWarning: X does not have valid feature names, but StandardScaler was fitted with feature names\n",
      "  warnings.warn(\n"
     ]
    },
    {
     "data": {
      "text/plain": [
       "array([1], dtype=int64)"
      ]
     },
     "execution_count": 18,
     "metadata": {},
     "output_type": "execute_result"
    }
   ],
   "source": [
    "import pickle\n",
    "with open('logreg.pkl', 'wb') as f:\n",
    "  pickle.dump(log,f)\n",
    "\n",
    "\n",
    "\n",
    "model = pickle.load(open('logreg.pkl', 'rb'))\n",
    "\n",
    "import sklearn\n",
    "print('The scikit-learn version is {}.'.format(sklearn.__version__))\n",
    "\n",
    "featureList = [0, 27249480.0, 27249481.0,  0.00, 1, 0]\n",
    "\n",
    "toNParray = np.asarray(featureList)\n",
    "ReshapedArray = toNParray.reshape(1,-1)\n",
    "model.predict(ReshapedArray)"
   ]
  }
 ],
 "metadata": {
  "kernelspec": {
   "display_name": "Python 3.9.12 ('CondaApp')",
   "language": "python",
   "name": "python3"
  },
  "language_info": {
   "codemirror_mode": {
    "name": "ipython",
    "version": 3
   },
   "file_extension": ".py",
   "mimetype": "text/x-python",
   "name": "python",
   "nbconvert_exporter": "python",
   "pygments_lexer": "ipython3",
   "version": "3.9.12"
  },
  "vscode": {
   "interpreter": {
    "hash": "8f10d87a4f320654bed30506a8edcbb55da23c6b4a3a4aca809c6615561d6b8d"
   }
  }
 },
 "nbformat": 4,
 "nbformat_minor": 5
}
