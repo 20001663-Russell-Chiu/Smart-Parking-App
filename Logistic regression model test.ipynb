{
 "cells": [
  {
   "cell_type": "code",
   "execution_count": 1,
   "id": "246c1f16",
   "metadata": {},
   "outputs": [],
   "source": [
    "#step 1: Import the required modules\n",
    "import pandas as pd\n",
    "from sklearn.linear_model import LogisticRegression\n",
    "from sklearn.neighbors import KNeighborsClassifier\n",
    "import matplotlib.pyplot as plt\n",
    "from sklearn import preprocessing\n",
    "from sklearn.preprocessing import StandardScaler\n",
    "from sklearn.model_selection import train_test_split, KFold, cross_val_score\n",
    "import numpy as np\n",
    "from sklearn.metrics import confusion_matrix,ConfusionMatrixDisplay, accuracy_score\n",
    "from sklearn import metrics\n",
    "from sklearn.model_selection import StratifiedKFold, KFold\n",
    "from sklearn.model_selection import *\n",
    "from sklearn.model_selection import GridSearchCV\n",
    "import seaborn as sn\n",
    "from sklearn.pipeline import make_pipeline\n",
    "from sklearn.preprocessing import StandardScaler"
   ]
  },
  {
   "cell_type": "code",
   "execution_count": 2,
   "id": "87292284",
   "metadata": {},
   "outputs": [],
   "source": [
    "#step 2: importing in my dataset from my directory\n",
    "datasetpre = pd.read_csv(r\"C:\\Users\\Russell\\Desktop\\FYP\\PL80_Dataset_1.csv\")\n",
    "\n",
    "dataset = datasetpre.sample(frac=1)"
   ]
  },
  {
   "cell_type": "code",
   "execution_count": 3,
   "id": "74257d36",
   "metadata": {},
   "outputs": [
    {
     "data": {
      "text/html": [
       "<div>\n",
       "<style scoped>\n",
       "    .dataframe tbody tr th:only-of-type {\n",
       "        vertical-align: middle;\n",
       "    }\n",
       "\n",
       "    .dataframe tbody tr th {\n",
       "        vertical-align: top;\n",
       "    }\n",
       "\n",
       "    .dataframe thead th {\n",
       "        text-align: right;\n",
       "    }\n",
       "</style>\n",
       "<table border=\"1\" class=\"dataframe\">\n",
       "  <thead>\n",
       "    <tr style=\"text-align: right;\">\n",
       "      <th></th>\n",
       "      <th>VEHICLETYPE</th>\n",
       "      <th>SESSIONSTART</th>\n",
       "      <th>SESSIONEND</th>\n",
       "      <th>TOTAL_CHARGE</th>\n",
       "      <th>DURATION</th>\n",
       "      <th>EFFECTIVE_CHARGE</th>\n",
       "      <th>LOT_NUMBER</th>\n",
       "    </tr>\n",
       "  </thead>\n",
       "  <tbody>\n",
       "    <tr>\n",
       "      <th>4318</th>\n",
       "      <td>C</td>\n",
       "      <td>24/10/2021 21:29</td>\n",
       "      <td>24/10/2021 21:31</td>\n",
       "      <td>0.00</td>\n",
       "      <td>2</td>\n",
       "      <td>0.00</td>\n",
       "      <td>301</td>\n",
       "    </tr>\n",
       "    <tr>\n",
       "      <th>5965</th>\n",
       "      <td>C</td>\n",
       "      <td>2/8/2021 23:07</td>\n",
       "      <td>2/8/2021 23:40</td>\n",
       "      <td>0.66</td>\n",
       "      <td>33</td>\n",
       "      <td>0.66</td>\n",
       "      <td>63</td>\n",
       "    </tr>\n",
       "    <tr>\n",
       "      <th>1527</th>\n",
       "      <td>C</td>\n",
       "      <td>12/10/2021 4:00</td>\n",
       "      <td>12/10/2021 4:01</td>\n",
       "      <td>0.00</td>\n",
       "      <td>1</td>\n",
       "      <td>0.00</td>\n",
       "      <td>69</td>\n",
       "    </tr>\n",
       "    <tr>\n",
       "      <th>7861</th>\n",
       "      <td>C</td>\n",
       "      <td>9/8/2021 22:03</td>\n",
       "      <td>8/9/2021 22:25</td>\n",
       "      <td>0.44</td>\n",
       "      <td>22</td>\n",
       "      <td>0.44</td>\n",
       "      <td>274</td>\n",
       "    </tr>\n",
       "    <tr>\n",
       "      <th>7807</th>\n",
       "      <td>C</td>\n",
       "      <td>7/9/2021 21:39</td>\n",
       "      <td>8/9/2021 8:06</td>\n",
       "      <td>7.34</td>\n",
       "      <td>627</td>\n",
       "      <td>7.34</td>\n",
       "      <td>75</td>\n",
       "    </tr>\n",
       "  </tbody>\n",
       "</table>\n",
       "</div>"
      ],
      "text/plain": [
       "     VEHICLETYPE      SESSIONSTART        SESSIONEND  TOTAL_CHARGE  DURATION  \\\n",
       "4318           C  24/10/2021 21:29  24/10/2021 21:31          0.00         2   \n",
       "5965           C    2/8/2021 23:07    2/8/2021 23:40          0.66        33   \n",
       "1527           C   12/10/2021 4:00   12/10/2021 4:01          0.00         1   \n",
       "7861           C    9/8/2021 22:03    8/9/2021 22:25          0.44        22   \n",
       "7807           C    7/9/2021 21:39     8/9/2021 8:06          7.34       627   \n",
       "\n",
       "      EFFECTIVE_CHARGE  LOT_NUMBER  \n",
       "4318              0.00         301  \n",
       "5965              0.66          63  \n",
       "1527              0.00          69  \n",
       "7861              0.44         274  \n",
       "7807              7.34          75  "
      ]
     },
     "execution_count": 3,
     "metadata": {},
     "output_type": "execute_result"
    }
   ],
   "source": [
    "#step 3: Creating X values\n",
    "\n",
    "X = dataset.iloc[:,2:9]\n",
    "\n",
    "X.head()\n"
   ]
  },
  {
   "cell_type": "code",
   "execution_count": 4,
   "id": "021644ec",
   "metadata": {},
   "outputs": [
    {
     "data": {
      "text/plain": [
       "4318    1\n",
       "5965    0\n",
       "1527    1\n",
       "7861    0\n",
       "7807    0\n",
       "Name: LABEL_TYPE, dtype: int64"
      ]
     },
     "execution_count": 4,
     "metadata": {},
     "output_type": "execute_result"
    }
   ],
   "source": [
    "#step 4: Creating Y values\n",
    "Y = dataset.iloc[:,9]\n",
    "\n",
    "Y.head()"
   ]
  },
  {
   "cell_type": "code",
   "execution_count": 5,
   "id": "46cbae24",
   "metadata": {},
   "outputs": [
    {
     "data": {
      "text/html": [
       "<div>\n",
       "<style scoped>\n",
       "    .dataframe tbody tr th:only-of-type {\n",
       "        vertical-align: middle;\n",
       "    }\n",
       "\n",
       "    .dataframe tbody tr th {\n",
       "        vertical-align: top;\n",
       "    }\n",
       "\n",
       "    .dataframe thead th {\n",
       "        text-align: right;\n",
       "    }\n",
       "</style>\n",
       "<table border=\"1\" class=\"dataframe\">\n",
       "  <thead>\n",
       "    <tr style=\"text-align: right;\">\n",
       "      <th></th>\n",
       "      <th>VEHICLETYPE</th>\n",
       "      <th>SESSIONSTART</th>\n",
       "      <th>SESSIONEND</th>\n",
       "      <th>TOTAL_CHARGE</th>\n",
       "      <th>DURATION</th>\n",
       "      <th>EFFECTIVE_CHARGE</th>\n",
       "      <th>LOT_NUMBER</th>\n",
       "    </tr>\n",
       "  </thead>\n",
       "  <tbody>\n",
       "    <tr>\n",
       "      <th>4318</th>\n",
       "      <td>0</td>\n",
       "      <td>27251849.0</td>\n",
       "      <td>27251851.0</td>\n",
       "      <td>0.00</td>\n",
       "      <td>2</td>\n",
       "      <td>0.00</td>\n",
       "      <td>301</td>\n",
       "    </tr>\n",
       "    <tr>\n",
       "      <th>5965</th>\n",
       "      <td>0</td>\n",
       "      <td>27132427.0</td>\n",
       "      <td>27132460.0</td>\n",
       "      <td>0.66</td>\n",
       "      <td>33</td>\n",
       "      <td>0.66</td>\n",
       "      <td>63</td>\n",
       "    </tr>\n",
       "    <tr>\n",
       "      <th>1527</th>\n",
       "      <td>0</td>\n",
       "      <td>27233520.0</td>\n",
       "      <td>27233521.0</td>\n",
       "      <td>0.00</td>\n",
       "      <td>1</td>\n",
       "      <td>0.00</td>\n",
       "      <td>69</td>\n",
       "    </tr>\n",
       "    <tr>\n",
       "      <th>7861</th>\n",
       "      <td>0</td>\n",
       "      <td>27142443.0</td>\n",
       "      <td>27185665.0</td>\n",
       "      <td>0.44</td>\n",
       "      <td>22</td>\n",
       "      <td>0.44</td>\n",
       "      <td>274</td>\n",
       "    </tr>\n",
       "    <tr>\n",
       "      <th>7807</th>\n",
       "      <td>0</td>\n",
       "      <td>27184179.0</td>\n",
       "      <td>27184806.0</td>\n",
       "      <td>7.34</td>\n",
       "      <td>627</td>\n",
       "      <td>7.34</td>\n",
       "      <td>75</td>\n",
       "    </tr>\n",
       "  </tbody>\n",
       "</table>\n",
       "</div>"
      ],
      "text/plain": [
       "      VEHICLETYPE  SESSIONSTART  SESSIONEND  TOTAL_CHARGE  DURATION  \\\n",
       "4318            0    27251849.0  27251851.0          0.00         2   \n",
       "5965            0    27132427.0  27132460.0          0.66        33   \n",
       "1527            0    27233520.0  27233521.0          0.00         1   \n",
       "7861            0    27142443.0  27185665.0          0.44        22   \n",
       "7807            0    27184179.0  27184806.0          7.34       627   \n",
       "\n",
       "      EFFECTIVE_CHARGE  LOT_NUMBER  \n",
       "4318              0.00         301  \n",
       "5965              0.66          63  \n",
       "1527              0.00          69  \n",
       "7861              0.44         274  \n",
       "7807              7.34          75  "
      ]
     },
     "execution_count": 5,
     "metadata": {},
     "output_type": "execute_result"
    }
   ],
   "source": [
    "#Creating label encoder\n",
    "le = preprocessing.LabelEncoder()\n",
    "X['VEHICLETYPE'] = le.fit_transform(X['VEHICLETYPE'])\n",
    "\n",
    "\n",
    "X['SESSIONSTART'] = pd.to_datetime(X['SESSIONSTART'], format='%d/%m/%Y %H:%M', infer_datetime_format=True)\n",
    "X['SESSIONEND'] = pd.to_datetime(X['SESSIONEND'], format='%d/%m/%Y %H:%M', infer_datetime_format=True)\n",
    "\n",
    "X['SESSIONSTART'] = pd.to_datetime(X['SESSIONSTART']).map(pd.Timestamp.timestamp)\n",
    "X['SESSIONEND'] = pd.to_datetime(X['SESSIONEND']).map(pd.Timestamp.timestamp)\n",
    "\n",
    "X['SESSIONSTART'] = X['SESSIONSTART'] / 60\n",
    "X['SESSIONEND'] = X['SESSIONEND'] / 60\n",
    "\n",
    "\n",
    "X.head()"
   ]
  },
  {
   "cell_type": "code",
   "execution_count": 6,
   "id": "335a1cb4",
   "metadata": {},
   "outputs": [],
   "source": [
    "#step 5: Split the data set\n",
    "X_train, X_test, Y_train, Y_test = train_test_split(X,Y, test_size=0.2)\n"
   ]
  },
  {
   "cell_type": "code",
   "execution_count": 7,
   "id": "63c5652d",
   "metadata": {},
   "outputs": [],
   "source": [
    "# log = LogisticRegression(C=3792.690190732246, max_iter=1400, penalty='l1',solver='liblinear')\n",
    "\n",
    "log = make_pipeline(StandardScaler(), LogisticRegression(C=3792.690190732246, max_iter=1400, penalty='l1',\n",
    "                   solver='liblinear'))\n",
    "  \n",
    "\n",
    "# param_grid = [\n",
    "#     {'penalty':['l1', 'l2', 'elasticnet', 'none'],\n",
    "#     'C' : np.logspace(-4,4,20),\n",
    "#     'solver' : ['lbfgs', 'newton-cg','sag','saga', 'liblinear'],\n",
    "#     'max_iter' :[100,400,1400,2500]\n",
    "#     }\n",
    "# ]\n",
    "\n",
    "# clf = GridSearchCV(log, param_grid = param_grid, cv=5,verbose=True, n_jobs=-1, error_score=np.nan)\n",
    "\n",
    "# best_clf = clf.fit(X_train, Y_train)"
   ]
  },
  {
   "cell_type": "code",
   "execution_count": 8,
   "id": "4ba99cf9",
   "metadata": {},
   "outputs": [],
   "source": [
    "#best_clf.best_estimator_\n",
    "#the best estimator returned was LogisticRegression(C=3792.690190732246, max_iter=1400, penalty='l1',solver='liblinear')\n",
    "\n",
    "# bestscore = best_clf.score(X_train,Y_train)\n",
    "# print(bestscore)"
   ]
  },
  {
   "cell_type": "code",
   "execution_count": 10,
   "id": "8dba84b5",
   "metadata": {},
   "outputs": [
    {
     "data": {
      "image/png": "[encoded data removed]",
      "text/plain": [
       "<Figure size 432x288 with 2 Axes>"
      ]
     },
     "metadata": {
      "needs_background": "light"
     },
     "output_type": "display_data"
    },
    {
     "name": "stdout",
     "output_type": "stream",
     "text": [
      "Accuracy: 0.917749\n",
      "Precision: Short Term-1.0 Season-0.861516\n",
      "Sensitivity: Short Term-0.83156 Season-1.0\n",
      "F1 Score: Short Term-0.908035 Season-0.925607\n"
     ]
    }
   ],
   "source": [
    "#standardize the dataset\n",
    "sc = StandardScaler()\n",
    "X_train_sc = sc.fit_transform(X_train)\n",
    "X_test_sc = sc.transform(X_test)\n",
    "\n",
    "log.fit(X_train, Y_train)\n",
    "y_pred = log.predict(X_test)\n",
    "    \n",
    "accuracy = metrics.accuracy_score(Y_test, y_pred)\n",
    "precision = metrics.precision_score(Y_test, y_pred, average=None)\n",
    "sensitivity = metrics.recall_score(Y_test, y_pred, average=None)\n",
    "f1_score = metrics.f1_score(Y_test, y_pred, average=None)\n",
    "    \n",
    "#Displays confusion matrix\n",
    "cm = metrics.confusion_matrix(Y_test, y_pred)\n",
    "disp = metrics.ConfusionMatrixDisplay(confusion_matrix=cm, display_labels=['Short Term Parking','Season Parking'])\n",
    "disp.plot()\n",
    "plt.title('Confusion Matrix of logistic regression')\n",
    "plt.show()\n",
    "    \n",
    "print(\"Accuracy: {0}\".format(round(accuracy,6)))\n",
    "print(\"Precision: Short Term-{0} Season-{1}\".format(round(precision[0],6), round(precision[1], 6)))\n",
    "print(\"Sensitivity: Short Term-{0} Season-{1}\".format(round(sensitivity[0],6), round(sensitivity[1], 6)))\n",
    "print(\"F1 Score: Short Term-{0} Season-{1}\".format(round(f1_score[0],6), round(f1_score[1], 6)))\n",
    "    "
   ]
  },
  {
   "cell_type": "code",
   "execution_count": 11,
   "id": "a4361af1",
   "metadata": {},
   "outputs": [],
   "source": [
    "def kFoldCV_splits(model, X, y, cv=KFold(n_splits=10)): #cv must be at least a KFold object\n",
    "    accuracy_list, precision_list, recall_list, f1_score_list = list(), list(), list(), list()\n",
    "    \n",
    "    X = pd.DataFrame(X)\n",
    "    y = pd.Series(y)\n",
    "    \n",
    "    for train, test in cv.split(X, y):\n",
    "        X_train, X_test, y_train, y_test = X.iloc[train], X.iloc[test], y.iloc[train], y.iloc[test] \n",
    "        \n",
    "        model.fit(X_train, y_train)\n",
    "        \n",
    "        y_pred = model.predict(X_test)\n",
    "        \n",
    "        accuracy_list.append(metrics.accuracy_score(y_test, y_pred))\n",
    "        precision_list.append(metrics.precision_score(y_test, y_pred, average=None))\n",
    "        recall_list.append(metrics.recall_score(y_test, y_pred, average=None))\n",
    "        f1_score_list.append(metrics.f1_score(y_test, y_pred, average=None))\n",
    "        \n",
    "    display_kfold_cv_results(accuracy_list, precision_list, recall_list, f1_score_list)\n",
    "    \n",
    "def display_kfold_cv_results(accuracy_list, precision_list, recall_list, f1_score_list):\n",
    "    accuracy = np.mean(accuracy_list)\n",
    "    precision_short, precision_season = np.mean([short for short, season in precision_list]), np.mean([season for short, season in precision_list])\n",
    "    sensitivity_short, sensitivity_season = np.mean([short for short, season in recall_list]), np.mean([short for short, season in recall_list])\n",
    "    f1_score_short, f1_score_season = np.mean([short for short, season in f1_score_list]), np.mean([short for short, season in f1_score_list])\n",
    "    \n",
    "    print(\"mean Accuracy: {0}\".format(round(accuracy,6)))\n",
    "    print(\"mean Precision: Short Term-{0} Season-{1}\".format(round(precision_short,6), round(precision_season, 6)))\n",
    "    print(\"mean Sensitivity: Short Term-{0} Season-{1}\".format(round(sensitivity_short,6), round(sensitivity_season, 6)))\n",
    "    print(\"mean F1 Score: Short Term-{0} Season-{1}\".format(round(f1_score_short,6), round(f1_score_season, 6)))\n"
   ]
  },
  {
   "cell_type": "code",
   "execution_count": 12,
   "id": "cb9d33a6",
   "metadata": {},
   "outputs": [
    {
     "name": "stdout",
     "output_type": "stream",
     "text": [
      "mean Accuracy: 0.917387\n",
      "mean Precision: Short Term-1.0 Season-0.859974\n",
      "mean Sensitivity: Short Term-0.832303 Season-0.832303\n",
      "mean F1 Score: Short Term-0.90845 Season-0.90845\n"
     ]
    }
   ],
   "source": [
    "kFoldCV_splits(log, X,Y)"
   ]
  },
  {
   "cell_type": "code",
   "execution_count": null,
   "id": "d00ec007",
   "metadata": {},
   "outputs": [],
   "source": []
  }
 ],
 "metadata": {
  "kernelspec": {
   "display_name": "Python 3 (ipykernel)",
   "language": "python",
   "name": "python3"
  },
  "language_info": {
   "codemirror_mode": {
    "name": "ipython",
    "version": 3
   },
   "file_extension": ".py",
   "mimetype": "text/x-python",
   "name": "python",
   "nbconvert_exporter": "python",
   "pygments_lexer": "ipython3",
   "version": "3.9.7"
  }
 },
 "nbformat": 4,
 "nbformat_minor": 5
}
